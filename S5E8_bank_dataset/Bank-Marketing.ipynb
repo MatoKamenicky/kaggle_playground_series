{
 "cells": [
  {
   "cell_type": "code",
   "execution_count": null,
   "metadata": {
    "colab": {
     "base_uri": "https://localhost:8080/",
     "height": 84,
     "referenced_widgets": [
      "97cbc1a8326a4439943afa40cf9e9d7c",
      "f2a3b90dcab0422b8e4af1393fce1a3f",
      "ce502b37414a4b27ad7da7fe9571279e",
      "c0b56d8bb1a943468dd6af81b17bc220",
      "02d19e91b5834bc1b63e125830b5be3f",
      "8580b3d04fae42079de655f78029e7cf",
      "7cd6838a2cae453aa582b61aa1d2abc3",
      "70347323d6974b8586b4051aab119297",
      "ef46c7ea9c9346949a9e491ec99eee38",
      "56c9171f2b1c499fafa20cbb7aa1a051",
      "33200d1f7bc945c99b0f919cf1089c60",
      "1910631e0b0b4f54b4c586d47148ebd9",
      "b464b3197837475ab01e68bb97d79851",
      "9b748d2d4e844c0db63b4dab2a98155a",
      "7a795c79f66d42cdae2053fd2509c114",
      "66efeca0f34848e8a32d036c6d0810b3",
      "ab9ea9ac67504092ba806390f618ea7e",
      "8ca80afb7cca4f27b79c0e9466cb39d7",
      "b5678cfff8ea4d12a3db73219a1e3d89",
      "ca77e6a590cf4a729b5e2e2258961919",
      "bbb65ba5e5d344f19122a752b7985197",
      "01eabd25007343b1893a5336bc25cbbe",
      "034f1ef75bbf4e6ca276b0979e369333"
     ]
    },
    "executionInfo": {
     "elapsed": 442,
     "status": "ok",
     "timestamp": 1754403555382,
     "user": {
      "displayName": "Matej Kamenicky",
      "userId": "04927559039197615042"
     },
     "user_tz": -120
    },
    "id": "t-L1CCJ8VArw",
    "outputId": "ddade04a-c5f1-4179-9b2a-e7ae2868ddb5"
   },
   "outputs": [],
   "source": [
    "import kagglehub\n",
    "kagglehub.login()"
   ]
  },
  {
   "cell_type": "code",
   "execution_count": null,
   "metadata": {
    "colab": {
     "base_uri": "https://localhost:8080/"
    },
    "executionInfo": {
     "elapsed": 1424,
     "status": "ok",
     "timestamp": 1754403580063,
     "user": {
      "displayName": "Matej Kamenicky",
      "userId": "04927559039197615042"
     },
     "user_tz": -120
    },
    "id": "S_uaX1_DVJ-w",
    "outputId": "68de7ddb-8d2c-40d6-d25f-a3c3b574ad7b"
   },
   "outputs": [],
   "source": [
    "data_path = kagglehub.competition_download('playground-series-s5e8')\n",
    "\n",
    "print('Data source import complete.')"
   ]
  },
  {
   "cell_type": "code",
   "execution_count": null,
   "metadata": {
    "executionInfo": {
     "elapsed": 1098,
     "status": "ok",
     "timestamp": 1754403581162,
     "user": {
      "displayName": "Matej Kamenicky",
      "userId": "04927559039197615042"
     },
     "user_tz": -120
    },
    "id": "WZ3JQRZKVP24"
   },
   "outputs": [],
   "source": [
    "import pandas as pd\n",
    "import numpy as np\n",
    "import matplotlib.pyplot as plt\n",
    "import seaborn as sns\n",
    "import os"
   ]
  },
  {
   "cell_type": "code",
   "execution_count": null,
   "metadata": {
    "executionInfo": {
     "elapsed": 2,
     "status": "ok",
     "timestamp": 1754403581165,
     "user": {
      "displayName": "Matej Kamenicky",
      "userId": "04927559039197615042"
     },
     "user_tz": -120
    },
    "id": "ugaZf0icVScz"
   },
   "outputs": [],
   "source": [
    "import warnings\n",
    "warnings.filterwarnings(\"ignore\")"
   ]
  },
  {
   "cell_type": "markdown",
   "metadata": {
    "id": "TScclgSWVkMk"
   },
   "source": [
    "Import train and test dataset"
   ]
  },
  {
   "cell_type": "code",
   "execution_count": null,
   "metadata": {
    "executionInfo": {
     "elapsed": 1579,
     "status": "ok",
     "timestamp": 1754403582745,
     "user": {
      "displayName": "Matej Kamenicky",
      "userId": "04927559039197615042"
     },
     "user_tz": -120
    },
    "id": "kmUVjL9gVUCC"
   },
   "outputs": [],
   "source": [
    "data = pd.read_csv(os.path.join(data_path, 'train.csv'))\n",
    "test_data = pd.read_csv(os.path.join(data_path, 'test.csv'))"
   ]
  },
  {
   "cell_type": "markdown",
   "metadata": {
    "id": "6UfBbWz5VmjY"
   },
   "source": [
    "# EDA"
   ]
  },
  {
   "cell_type": "code",
   "execution_count": null,
   "metadata": {
    "colab": {
     "base_uri": "https://localhost:8080/"
    },
    "executionInfo": {
     "elapsed": 10,
     "status": "ok",
     "timestamp": 1754403582757,
     "user": {
      "displayName": "Matej Kamenicky",
      "userId": "04927559039197615042"
     },
     "user_tz": -120
    },
    "id": "nG3vjnbBViUv",
    "outputId": "9d582c55-a9f6-4d6c-bbc9-50f2acbdfadc"
   },
   "outputs": [],
   "source": [
    "data.shape"
   ]
  },
  {
   "cell_type": "code",
   "execution_count": null,
   "metadata": {
    "colab": {
     "base_uri": "https://localhost:8080/",
     "height": 206
    },
    "executionInfo": {
     "elapsed": 20,
     "status": "ok",
     "timestamp": 1754403582778,
     "user": {
      "displayName": "Matej Kamenicky",
      "userId": "04927559039197615042"
     },
     "user_tz": -120
    },
    "id": "idnyo0jAVrHI",
    "outputId": "fb830ed2-a426-423d-abd5-25ebdab49ab0"
   },
   "outputs": [],
   "source": [
    "data.head()"
   ]
  },
  {
   "cell_type": "code",
   "execution_count": null,
   "metadata": {
    "colab": {
     "base_uri": "https://localhost:8080/",
     "height": 300
    },
    "executionInfo": {
     "elapsed": 148,
     "status": "ok",
     "timestamp": 1754403582930,
     "user": {
      "displayName": "Matej Kamenicky",
      "userId": "04927559039197615042"
     },
     "user_tz": -120
    },
    "id": "Pi8pThSIWRUp",
    "outputId": "541bbeb1-59ae-4e85-8b76-1014bb81a241"
   },
   "outputs": [],
   "source": [
    "data.describe()"
   ]
  },
  {
   "cell_type": "code",
   "execution_count": null,
   "metadata": {
    "colab": {
     "base_uri": "https://localhost:8080/"
    },
    "executionInfo": {
     "elapsed": 298,
     "status": "ok",
     "timestamp": 1754403583230,
     "user": {
      "displayName": "Matej Kamenicky",
      "userId": "04927559039197615042"
     },
     "user_tz": -120
    },
    "id": "d9aQPRJbXlIb",
    "outputId": "f874ec6d-7b5f-4017-cf8c-b7f81cd360a8"
   },
   "outputs": [],
   "source": [
    "data.info()"
   ]
  },
  {
   "cell_type": "code",
   "execution_count": null,
   "metadata": {
    "colab": {
     "base_uri": "https://localhost:8080/"
    },
    "executionInfo": {
     "elapsed": 570,
     "status": "ok",
     "timestamp": 1754403583813,
     "user": {
      "displayName": "Matej Kamenicky",
      "userId": "04927559039197615042"
     },
     "user_tz": -120
    },
    "id": "ZUSKiCtQXtdu",
    "outputId": "b8a84678-730f-49b2-bddb-720553a879f0"
   },
   "outputs": [],
   "source": [
    "missing_table = pd.DataFrame({\n",
    "    'Missing Values': data.isna().sum(),\n",
    "    'Percentage (%)': (data.isnull().mean() * 100).round(2)\n",
    "})\n",
    "\n",
    "print(missing_table.sort_values(by='Missing Values', ascending=False))"
   ]
  },
  {
   "cell_type": "code",
   "execution_count": null,
   "metadata": {
    "colab": {
     "base_uri": "https://localhost:8080/",
     "height": 649
    },
    "executionInfo": {
     "elapsed": 379,
     "status": "ok",
     "timestamp": 1754403584194,
     "user": {
      "displayName": "Matej Kamenicky",
      "userId": "04927559039197615042"
     },
     "user_tz": -120
    },
    "id": "CXGpClCLXwV7",
    "outputId": "bd146ddf-ffa7-4d4b-fede-3aa34bed0966"
   },
   "outputs": [],
   "source": [
    "data.nunique()"
   ]
  },
  {
   "cell_type": "markdown",
   "metadata": {
    "id": "gfC--WHkYJ6s"
   },
   "source": [
    "# Data visualisation"
   ]
  },
  {
   "cell_type": "markdown",
   "metadata": {
    "id": "qD0AgsbnYJHE"
   },
   "source": [
    "Check dataset balance"
   ]
  },
  {
   "cell_type": "code",
   "execution_count": null,
   "metadata": {
    "colab": {
     "base_uri": "https://localhost:8080/",
     "height": 428
    },
    "executionInfo": {
     "elapsed": 205,
     "status": "ok",
     "timestamp": 1754403584400,
     "user": {
      "displayName": "Matej Kamenicky",
      "userId": "04927559039197615042"
     },
     "user_tz": -120
    },
    "id": "5snyjC0OYI7s",
    "outputId": "f49286ad-5cd9-47c4-837e-779d629a0e6f"
   },
   "outputs": [],
   "source": [
    "data['y'].value_counts().plot.pie(autopct='%1.1f%%', startangle=90, explode=(0,0.1), colors=['#4c72b0', '#aec7e8'])\n",
    "plt.title('Target distribution')\n",
    "plt.ylabel('')\n",
    "plt.show()"
   ]
  },
  {
   "cell_type": "code",
   "execution_count": null,
   "metadata": {
    "colab": {
     "base_uri": "https://localhost:8080/",
     "height": 466
    },
    "executionInfo": {
     "elapsed": 3737,
     "status": "ok",
     "timestamp": 1754403588160,
     "user": {
      "displayName": "Matej Kamenicky",
      "userId": "04927559039197615042"
     },
     "user_tz": -120
    },
    "id": "dLUf8lRKX0r-",
    "outputId": "60637c88-781d-47d9-fb43-1f222c25fb8a"
   },
   "outputs": [],
   "source": [
    "sns.histplot(data=data, x=\"age\", kde=True, bins=70)"
   ]
  },
  {
   "cell_type": "code",
   "execution_count": null,
   "metadata": {
    "colab": {
     "base_uri": "https://localhost:8080/",
     "height": 507
    },
    "executionInfo": {
     "elapsed": 1707,
     "status": "ok",
     "timestamp": 1754403589856,
     "user": {
      "displayName": "Matej Kamenicky",
      "userId": "04927559039197615042"
     },
     "user_tz": -120
    },
    "id": "kCs_hQ7SY4fn",
    "outputId": "d43defab-eda5-42ee-b261-629c5dcf2884"
   },
   "outputs": [],
   "source": [
    "plt.figure(figsize=(12, 5))\n",
    "sns.countplot(data=data, x=\"job\")\n",
    "plt.xlabel('Type of job')\n",
    "plt.ylabel('')\n",
    "plt.xticks(rotation=45, ha='right')\n",
    "plt.tight_layout()\n",
    "plt.show()"
   ]
  },
  {
   "cell_type": "code",
   "execution_count": null,
   "metadata": {
    "colab": {
     "base_uri": "https://localhost:8080/",
     "height": 486
    },
    "executionInfo": {
     "elapsed": 1072,
     "status": "ok",
     "timestamp": 1754403590930,
     "user": {
      "displayName": "Matej Kamenicky",
      "userId": "04927559039197615042"
     },
     "user_tz": -120
    },
    "id": "_GiFm7YjZSP7",
    "outputId": "ea054dd6-c57c-4fef-8fce-036cf54c0bcd"
   },
   "outputs": [],
   "source": [
    "sns.countplot(data=data, x=\"marital\")\n",
    "plt.xlabel('Marital status')\n",
    "plt.ylabel('')\n",
    "plt.tight_layout()\n",
    "plt.show()"
   ]
  },
  {
   "cell_type": "code",
   "execution_count": null,
   "metadata": {
    "colab": {
     "base_uri": "https://localhost:8080/",
     "height": 487
    },
    "executionInfo": {
     "elapsed": 1239,
     "status": "ok",
     "timestamp": 1754403592129,
     "user": {
      "displayName": "Matej Kamenicky",
      "userId": "04927559039197615042"
     },
     "user_tz": -120
    },
    "id": "oNhhM5DVZz4W",
    "outputId": "3b7b83d0-0749-4886-ca45-e114ed1e7943"
   },
   "outputs": [],
   "source": [
    "sns.countplot(data=data, x=\"education\")\n",
    "plt.xlabel('Level of education')\n",
    "plt.ylabel('')\n",
    "plt.tight_layout()\n",
    "plt.show()"
   ]
  },
  {
   "cell_type": "code",
   "execution_count": null,
   "metadata": {
    "colab": {
     "base_uri": "https://localhost:8080/",
     "height": 428
    },
    "executionInfo": {
     "elapsed": 100,
     "status": "ok",
     "timestamp": 1754403592230,
     "user": {
      "displayName": "Matej Kamenicky",
      "userId": "04927559039197615042"
     },
     "user_tz": -120
    },
    "id": "Au8TgxSKcZ-_",
    "outputId": "d3833321-b9ea-4037-a2db-86e10a9043d8"
   },
   "outputs": [],
   "source": [
    "data['default'].value_counts().plot.pie(autopct='%1.1f%%', startangle=90, explode=(0,0.1), colors=['#4c72b0', '#aec7e8'])\n",
    "plt.title('Has credit in default?')\n",
    "plt.ylabel('')\n",
    "plt.show()"
   ]
  },
  {
   "cell_type": "code",
   "execution_count": null,
   "metadata": {
    "colab": {
     "base_uri": "https://localhost:8080/",
     "height": 466
    },
    "executionInfo": {
     "elapsed": 6240,
     "status": "ok",
     "timestamp": 1754403598472,
     "user": {
      "displayName": "Matej Kamenicky",
      "userId": "04927559039197615042"
     },
     "user_tz": -120
    },
    "id": "D9O04uxrcfbR",
    "outputId": "94b8ea11-1598-4ff3-ae23-762a7834fad6"
   },
   "outputs": [],
   "source": [
    "sns.histplot(data=data, x=\"balance\", kde=True, bins=50)"
   ]
  },
  {
   "cell_type": "code",
   "execution_count": null,
   "metadata": {
    "colab": {
     "base_uri": "https://localhost:8080/",
     "height": 428
    },
    "executionInfo": {
     "elapsed": 108,
     "status": "ok",
     "timestamp": 1754403598555,
     "user": {
      "displayName": "Matej Kamenicky",
      "userId": "04927559039197615042"
     },
     "user_tz": -120
    },
    "id": "VN-tUMJ_cwqA",
    "outputId": "09a3dc8d-97d9-44e6-9351-9b8da58c9a72"
   },
   "outputs": [],
   "source": [
    "data['housing'].value_counts().plot.pie(autopct='%1.1f%%', startangle=90, explode=(0,0.1), colors=['#4c72b0', '#aec7e8'])\n",
    "plt.title('Has a housing loan?')\n",
    "plt.ylabel('')\n",
    "plt.show()"
   ]
  },
  {
   "cell_type": "code",
   "execution_count": null,
   "metadata": {
    "colab": {
     "base_uri": "https://localhost:8080/",
     "height": 428
    },
    "executionInfo": {
     "elapsed": 143,
     "status": "ok",
     "timestamp": 1754403598699,
     "user": {
      "displayName": "Matej Kamenicky",
      "userId": "04927559039197615042"
     },
     "user_tz": -120
    },
    "id": "NZ7ZKZxOc3l_",
    "outputId": "debeeb0b-7cdd-45c3-db51-561e96504ad5"
   },
   "outputs": [],
   "source": [
    "data['loan'].value_counts().plot.pie(autopct='%1.1f%%', startangle=90, explode=(0,0.1), colors=['#4c72b0', '#aec7e8'])\n",
    "plt.title('Has a personal loan?')\n",
    "plt.ylabel('')\n",
    "plt.show()"
   ]
  },
  {
   "cell_type": "code",
   "execution_count": null,
   "metadata": {
    "colab": {
     "base_uri": "https://localhost:8080/",
     "height": 487
    },
    "executionInfo": {
     "elapsed": 2251,
     "status": "ok",
     "timestamp": 1754403600948,
     "user": {
      "displayName": "Matej Kamenicky",
      "userId": "04927559039197615042"
     },
     "user_tz": -120
    },
    "id": "L6Ud8w6OdJB3",
    "outputId": "6fbc270f-3622-4585-d3ed-f05864bffbb2"
   },
   "outputs": [],
   "source": [
    "sns.countplot(data=data, x=\"contact\")\n",
    "plt.xlabel('Type of communication contact')\n",
    "plt.ylabel('')\n",
    "plt.tight_layout()\n",
    "plt.show()"
   ]
  },
  {
   "cell_type": "code",
   "execution_count": null,
   "metadata": {
    "colab": {
     "base_uri": "https://localhost:8080/",
     "height": 507
    },
    "executionInfo": {
     "elapsed": 1201,
     "status": "ok",
     "timestamp": 1754403602148,
     "user": {
      "displayName": "Matej Kamenicky",
      "userId": "04927559039197615042"
     },
     "user_tz": -120
    },
    "id": "fLebsi_zdPAE",
    "outputId": "5c5c392f-91a6-4fad-8770-bfa4a85536c3"
   },
   "outputs": [],
   "source": [
    "plt.figure(figsize=(12, 5))\n",
    "sns.countplot(data=data, x=\"day\")\n",
    "plt.xlabel('Last contact day of the month')\n",
    "plt.ylabel('')\n",
    "plt.tight_layout()\n",
    "plt.show()"
   ]
  },
  {
   "cell_type": "code",
   "execution_count": null,
   "metadata": {
    "colab": {
     "base_uri": "https://localhost:8080/",
     "height": 507
    },
    "executionInfo": {
     "elapsed": 1333,
     "status": "ok",
     "timestamp": 1754403603482,
     "user": {
      "displayName": "Matej Kamenicky",
      "userId": "04927559039197615042"
     },
     "user_tz": -120
    },
    "id": "ZPXj8tiudc1c",
    "outputId": "58d9047b-e495-4346-de3c-a560015b5a07"
   },
   "outputs": [],
   "source": [
    "plt.figure(figsize=(12, 5))\n",
    "sns.countplot(data=data, x=\"month\")\n",
    "plt.xlabel('Last contact month of the year')\n",
    "plt.ylabel('')\n",
    "plt.tight_layout()\n",
    "plt.show()"
   ]
  },
  {
   "cell_type": "code",
   "execution_count": null,
   "metadata": {
    "colab": {
     "base_uri": "https://localhost:8080/",
     "height": 466
    },
    "executionInfo": {
     "elapsed": 3028,
     "status": "ok",
     "timestamp": 1754403606533,
     "user": {
      "displayName": "Matej Kamenicky",
      "userId": "04927559039197615042"
     },
     "user_tz": -120
    },
    "id": "FlSYpzyzeBbJ",
    "outputId": "267e3a02-6060-42b2-ab35-533e41cd0803"
   },
   "outputs": [],
   "source": [
    "sns.histplot(data=data, x=\"duration\", kde=True, bins=50)"
   ]
  },
  {
   "cell_type": "code",
   "execution_count": null,
   "metadata": {
    "colab": {
     "base_uri": "https://localhost:8080/",
     "height": 466
    },
    "executionInfo": {
     "elapsed": 3141,
     "status": "ok",
     "timestamp": 1754403609682,
     "user": {
      "displayName": "Matej Kamenicky",
      "userId": "04927559039197615042"
     },
     "user_tz": -120
    },
    "id": "Hw9VPcECeX-H",
    "outputId": "24276de0-a390-4c6e-a732-38d32915d20e"
   },
   "outputs": [],
   "source": [
    "sns.histplot(data=data, x=\"campaign\", kde=True, bins=50)"
   ]
  },
  {
   "cell_type": "code",
   "execution_count": null,
   "metadata": {
    "colab": {
     "base_uri": "https://localhost:8080/",
     "height": 506
    },
    "executionInfo": {
     "elapsed": 1252,
     "status": "ok",
     "timestamp": 1754403610929,
     "user": {
      "displayName": "Matej Kamenicky",
      "userId": "04927559039197615042"
     },
     "user_tz": -120
    },
    "id": "-G2p__Kled0y",
    "outputId": "0a08724b-eeba-4052-d25b-35aa510a9ec7"
   },
   "outputs": [],
   "source": [
    "plt.figure(figsize=(12, 5))\n",
    "sns.countplot(data=data, x=\"poutcome\")\n",
    "plt.xlabel('Outcome of the previous marketing campaign')\n",
    "plt.ylabel('')\n",
    "plt.tight_layout()\n",
    "plt.show()"
   ]
  },
  {
   "cell_type": "markdown",
   "metadata": {
    "id": "n0mSbl1ocH7D"
   },
   "source": [
    "Correlation matrix"
   ]
  },
  {
   "cell_type": "code",
   "execution_count": null,
   "metadata": {
    "colab": {
     "base_uri": "https://localhost:8080/",
     "height": 545
    },
    "executionInfo": {
     "elapsed": 821,
     "status": "ok",
     "timestamp": 1754403611776,
     "user": {
      "displayName": "Matej Kamenicky",
      "userId": "04927559039197615042"
     },
     "user_tz": -120
    },
    "id": "i3wYunAtalY_",
    "outputId": "a537c614-b952-4306-9dbf-21419dd55461"
   },
   "outputs": [],
   "source": [
    "plt.figure(figsize=(16, 6))\n",
    "\n",
    "data_corr = data.corr(numeric_only=True)\n",
    "\n",
    "heatmap = sns.heatmap(data_corr.corr(), vmin=-1, vmax=1, annot=True, cmap='BrBG')\n",
    "heatmap.set_title('Correlation Heatmap', fontdict={'fontsize':12})\n",
    "\n",
    "plt.show()"
   ]
  },
  {
   "cell_type": "markdown",
   "metadata": {
    "id": "j2RXJxZqfYUY"
   },
   "source": [
    "# Data preprocessing"
   ]
  },
  {
   "cell_type": "code",
   "execution_count": null,
   "metadata": {
    "executionInfo": {
     "elapsed": 423,
     "status": "ok",
     "timestamp": 1754403620793,
     "user": {
      "displayName": "Matej Kamenicky",
      "userId": "04927559039197615042"
     },
     "user_tz": -120
    },
    "id": "f5XgTQfDcJMt"
   },
   "outputs": [],
   "source": [
    "from sklearn.preprocessing import OneHotEncoder, LabelEncoder, OrdinalEncoder, StandardScaler\n",
    "from sklearn.model_selection import train_test_split, StratifiedKFold\n",
    "from sklearn.compose import ColumnTransformer, make_column_selector\n",
    "from sklearn.pipeline import Pipeline\n",
    "from sklearn.base import BaseEstimator, TransformerMixin\n",
    "from sklearn.utils import shuffle"
   ]
  },
  {
   "cell_type": "code",
   "execution_count": null,
   "metadata": {
    "executionInfo": {
     "elapsed": 59,
     "status": "ok",
     "timestamp": 1754403620856,
     "user": {
      "displayName": "Matej Kamenicky",
      "userId": "04927559039197615042"
     },
     "user_tz": -120
    },
    "id": "WPxtJ-ZnfoXU"
   },
   "outputs": [],
   "source": [
    "X = data.drop(['y', 'id'], axis=1)\n",
    "y = data['y']"
   ]
  },
  {
   "cell_type": "code",
   "execution_count": null,
   "metadata": {
    "executionInfo": {
     "elapsed": 9,
     "status": "ok",
     "timestamp": 1754403621143,
     "user": {
      "displayName": "Matej Kamenicky",
      "userId": "04927559039197615042"
     },
     "user_tz": -120
    },
    "id": "EFN4mfV14yAg"
   },
   "outputs": [],
   "source": [
    "numerical_pipeline = Pipeline([\n",
    "    ('scaler', StandardScaler())\n",
    "])"
   ]
  },
  {
   "cell_type": "code",
   "execution_count": null,
   "metadata": {
    "executionInfo": {
     "elapsed": 20,
     "status": "ok",
     "timestamp": 1754403621358,
     "user": {
      "displayName": "Matej Kamenicky",
      "userId": "04927559039197615042"
     },
     "user_tz": -120
    },
    "id": "PpwxIASdfxPU"
   },
   "outputs": [],
   "source": [
    "categorical_pipeline = Pipeline([\n",
    "    ('encoder', OrdinalEncoder())\n",
    "])"
   ]
  },
  {
   "cell_type": "code",
   "execution_count": null,
   "metadata": {
    "executionInfo": {
     "elapsed": 4,
     "status": "ok",
     "timestamp": 1754403621498,
     "user": {
      "displayName": "Matej Kamenicky",
      "userId": "04927559039197615042"
     },
     "user_tz": -120
    },
    "id": "jFkW5AcF4wvx"
   },
   "outputs": [],
   "source": [
    "preprocessor = ColumnTransformer([\n",
    "    ('num', numerical_pipeline, make_column_selector(dtype_include=['int64', 'float64'])),\n",
    "    ('cat', categorical_pipeline, make_column_selector(dtype_include=['object']))\n",
    "])"
   ]
  },
  {
   "cell_type": "code",
   "execution_count": null,
   "metadata": {
    "executionInfo": {
     "elapsed": 55,
     "status": "ok",
     "timestamp": 1754403665798,
     "user": {
      "displayName": "Matej Kamenicky",
      "userId": "04927559039197615042"
     },
     "user_tz": -120
    },
    "id": "a2SFv_3N4929"
   },
   "outputs": [],
   "source": [
    "le = LabelEncoder()\n",
    "y = le.fit_transform(y)"
   ]
  },
  {
   "cell_type": "code",
   "execution_count": null,
   "metadata": {
    "executionInfo": {
     "elapsed": 4,
     "status": "ok",
     "timestamp": 1754403665911,
     "user": {
      "displayName": "Matej Kamenicky",
      "userId": "04927559039197615042"
     },
     "user_tz": -120
    },
    "id": "3NSiRoHj1pfc"
   },
   "outputs": [],
   "source": [
    "class FeatureEngineer(BaseEstimator, TransformerMixin):\n",
    "    def __init__(self):\n",
    "      pass\n",
    "\n",
    "    def fit(self, X, y = None):\n",
    "      return self\n",
    "\n",
    "    def transform(self, X):\n",
    "        X = X.copy()\n",
    "\n",
    "        X['long_call'] = X['duration'] > 200\n",
    "        X['balance_positive'] = (X['balance'] > 0).astype(int)\n",
    "        X['campaign_multiple'] = (X['campaign'] > 2).astype(int)\n",
    "        X['age_bin'] = pd.cut(X['age'], bins=[17, 30, 60, 100], labels=['young', 'middle', 'senior'])\n",
    "\n",
    "        X['duration_log'] = np.log1p(X['duration'])\n",
    "        X['campaign_log'] = np.log1p(X['campaign'])\n",
    "        X['pdays_log'] = np.log1p(X['pdays'] + 1)\n",
    "        X['previous_log'] = np.log1p(X['previous'])\n",
    "        X['balance_sqrt'] = np.sqrt(X['balance'] - X['balance'].min() + 1)\n",
    "        X['age_squared'] = X['age'] ** 2\n",
    "\n",
    "        return X"
   ]
  },
  {
   "cell_type": "markdown",
   "metadata": {
    "id": "D_vXTlvJ4_tZ"
   },
   "source": [
    "# Model building"
   ]
  },
  {
   "cell_type": "code",
   "execution_count": null,
   "metadata": {
    "executionInfo": {
     "elapsed": 4220,
     "status": "ok",
     "timestamp": 1754403671313,
     "user": {
      "displayName": "Matej Kamenicky",
      "userId": "04927559039197615042"
     },
     "user_tz": -120
    },
    "id": "ep63G-i95CGt"
   },
   "outputs": [],
   "source": [
    "import xgboost as xgb\n",
    "from collections import Counter\n",
    "from sklearn.metrics import roc_auc_score\n",
    "from sklearn.model_selection import cross_val_score\n",
    "import lightgbm as lgb"
   ]
  },
  {
   "cell_type": "code",
   "execution_count": null,
   "metadata": {
    "executionInfo": {
     "elapsed": 94,
     "status": "ok",
     "timestamp": 1754403671410,
     "user": {
      "displayName": "Matej Kamenicky",
      "userId": "04927559039197615042"
     },
     "user_tz": -120
    },
    "id": "6SfjWfSu5ZRf"
   },
   "outputs": [],
   "source": [
    "counter = Counter(y)\n",
    "scale_pos_weight = counter[0] / counter[1]"
   ]
  },
  {
   "cell_type": "code",
   "execution_count": null,
   "metadata": {
    "executionInfo": {
     "elapsed": 2,
     "status": "ok",
     "timestamp": 1754403671415,
     "user": {
      "displayName": "Matej Kamenicky",
      "userId": "04927559039197615042"
     },
     "user_tz": -120
    },
    "id": "4sA_uiXf5exp"
   },
   "outputs": [],
   "source": [
    "best_params =  {'max_depth': 11,\n",
    "                  'learning_rate': 0.08247101477015132,\n",
    "                  'n_estimators': 1000,\n",
    "                  'subsample': 0.9808690492838653,\n",
    "                  'colsample_bytree': 0.5831655543160346,\n",
    "                  'min_child_weight': 1,\n",
    "                  'gamma': 0.1832798205532591,\n",
    "                  'lambda': 4.510522889747622,\n",
    "                  'alpha': 5.007953193043952,\n",
    "                  'n_jobs': -1,\n",
    "                  \"objective\" : \"binary:logistic\",\n",
    "                  \"eval_metric\" : \"auc\"\n",
    "                  }"
   ]
  },
  {
   "cell_type": "code",
   "execution_count": null,
   "metadata": {
    "executionInfo": {
     "elapsed": 1,
     "status": "ok",
     "timestamp": 1754403671431,
     "user": {
      "displayName": "Matej Kamenicky",
      "userId": "04927559039197615042"
     },
     "user_tz": -120
    },
    "id": "qftFxCrfLmfW"
   },
   "outputs": [],
   "source": [
    "params = {\n",
    "    'objective': \"binary\",\n",
    "    'metric': 'auc',\n",
    "    'verbosity': -1,\n",
    "    'boosting_type': \"gbdt\",\n",
    "    'learning_rate': 0.01,\n",
    "    'max_depth': 20,\n",
    "    'num_leaves': 200,\n",
    "    'max_bin': 400,\n",
    "    'subsample': 0.85,\n",
    "    'colsample_bytree': 0.7,\n",
    "    'subsample_freq': 1,\n",
    "    'reg_alpha': 6.0,\n",
    "    'reg_lambda': 4.0,\n",
    "    'min_child_samples': 25,\n",
    "    'min_split_gain': 0.001,\n",
    "    'n_jobs': -1,\n",
    "    'lambda_l1': 0.5,\n",
    "    'lambda_l2': 0.3\n",
    "}\n"
   ]
  },
  {
   "cell_type": "code",
   "execution_count": null,
   "metadata": {
    "executionInfo": {
     "elapsed": 7,
     "status": "ok",
     "timestamp": 1754403672978,
     "user": {
      "displayName": "Matej Kamenicky",
      "userId": "04927559039197615042"
     },
     "user_tz": -120
    },
    "id": "TOfkmlq75ha9"
   },
   "outputs": [],
   "source": [
    "pipeline = Pipeline([\n",
    "    ('features', FeatureEngineer()),\n",
    "    ('preprocessing', preprocessor)\n",
    "    ])"
   ]
  },
  {
   "cell_type": "code",
   "execution_count": null,
   "metadata": {
    "executionInfo": {
     "elapsed": 2149,
     "status": "ok",
     "timestamp": 1754403675920,
     "user": {
      "displayName": "Matej Kamenicky",
      "userId": "04927559039197615042"
     },
     "user_tz": -120
    },
    "id": "uxJJnie25jTs"
   },
   "outputs": [],
   "source": [
    "X_preprocessed = pipeline.fit_transform(X)\n",
    "X_test_preprocessed = pipeline.transform(test_data)"
   ]
  },
  {
   "cell_type": "code",
   "execution_count": null,
   "metadata": {
    "colab": {
     "base_uri": "https://localhost:8080/"
    },
    "id": "yN2bwOpkJHBA",
    "outputId": "7d912257-0906-439c-b75f-0620ff806496"
   },
   "outputs": [],
   "source": [
    "skf = StratifiedKFold(n_splits=10, shuffle=True, random_state=42)\n",
    "oof_preds = np.zeros(len(X_preprocessed))\n",
    "test_preds = np.zeros(len(X_test_preprocessed))\n",
    "\n",
    "for fold, (train_idx, val_idx) in enumerate(skf.split(X_preprocessed, y)):\n",
    "    print(f\"Fold {fold + 1}\")\n",
    "\n",
    "    X_train, X_val = X_preprocessed[train_idx], X_preprocessed[val_idx]\n",
    "    y_train, y_val = y[train_idx], y[val_idx]\n",
    "\n",
    "    dtrain = lgb.Dataset(X_train, label=y_train)\n",
    "    dval = lgb.Dataset(X_val, label=y_val, reference=dtrain)\n",
    "\n",
    "    lgb_model = lgb.train(\n",
    "        params,\n",
    "        train_set=dtrain,\n",
    "        num_boost_round=1000,\n",
    "        valid_sets=[dval]\n",
    "        )\n",
    "\n",
    "    oof_preds[val_idx] = lgb_model.predict(X_val)\n",
    "    test_preds += lgb_model.predict(X_test_preprocessed) / skf.n_splits\n",
    "\n",
    "# Calculate AUC\n",
    "cv_roc = roc_auc_score(y, oof_preds)\n",
    "print(f\"Cross-Validation ROC AUC: {cv_roc:.4f}\")\n"
   ]
  },
  {
   "cell_type": "markdown",
   "metadata": {
    "id": "vrH6iXKh5m_2"
   },
   "source": [
    "# Submition"
   ]
  },
  {
   "cell_type": "code",
   "execution_count": null,
   "metadata": {
    "id": "G9uU4i2K54wk"
   },
   "outputs": [],
   "source": [
    "submission = pd.DataFrame({\n",
    "    'id': test_data[\"id\"],\n",
    "    'y': test_preds\n",
    "})"
   ]
  },
  {
   "cell_type": "code",
   "execution_count": null,
   "metadata": {
    "colab": {
     "base_uri": "https://localhost:8080/",
     "height": 424
    },
    "executionInfo": {
     "elapsed": 33,
     "status": "ok",
     "timestamp": 1754316415288,
     "user": {
      "displayName": "Matej Kamenicky",
      "userId": "04927559039197615042"
     },
     "user_tz": -120
    },
    "id": "_09HqGo361OP",
    "outputId": "340375eb-7f8a-4ee7-aaaf-1cef4fc57d27"
   },
   "outputs": [],
   "source": [
    "submission"
   ]
  },
  {
   "cell_type": "code",
   "execution_count": null,
   "metadata": {
    "id": "747HZAqI63Ss"
   },
   "outputs": [],
   "source": [
    "submission.to_csv('submission.csv', index=False)"
   ]
  },
  {
   "cell_type": "code",
   "execution_count": null,
   "metadata": {
    "id": "3ZjwTr9M8iuQ"
   },
   "outputs": [],
   "source": []
  }
 ],
 "metadata": {
  "accelerator": "GPU",
  "colab": {
   "authorship_tag": "ABX9TyPtRrtnAdWtkPMupr2FEliI",
   "gpuType": "T4",
   "provenance": []
  },
  "kernelspec": {
   "display_name": "Python 3",
   "name": "python3"
  },
  "language_info": {
   "name": "python"
  },
  "widgets": {
   "application/vnd.jupyter.widget-state+json": {
    "01eabd25007343b1893a5336bc25cbbe": {
     "model_module": "@jupyter-widgets/base",
     "model_module_version": "1.2.0",
     "model_name": "LayoutModel",
     "state": {
      "_model_module": "@jupyter-widgets/base",
      "_model_module_version": "1.2.0",
      "_model_name": "LayoutModel",
      "_view_count": null,
      "_view_module": "@jupyter-widgets/base",
      "_view_module_version": "1.2.0",
      "_view_name": "LayoutView",
      "align_content": null,
      "align_items": null,
      "align_self": null,
      "border": null,
      "bottom": null,
      "display": null,
      "flex": null,
      "flex_flow": null,
      "grid_area": null,
      "grid_auto_columns": null,
      "grid_auto_flow": null,
      "grid_auto_rows": null,
      "grid_column": null,
      "grid_gap": null,
      "grid_row": null,
      "grid_template_areas": null,
      "grid_template_columns": null,
      "grid_template_rows": null,
      "height": null,
      "justify_content": null,
      "justify_items": null,
      "left": null,
      "margin": null,
      "max_height": null,
      "max_width": null,
      "min_height": null,
      "min_width": null,
      "object_fit": null,
      "object_position": null,
      "order": null,
      "overflow": null,
      "overflow_x": null,
      "overflow_y": null,
      "padding": null,
      "right": null,
      "top": null,
      "visibility": null,
      "width": null
     }
    },
    "02d19e91b5834bc1b63e125830b5be3f": {
     "model_module": "@jupyter-widgets/controls",
     "model_module_version": "1.5.0",
     "model_name": "ButtonModel",
     "state": {
      "_dom_classes": [],
      "_model_module": "@jupyter-widgets/controls",
      "_model_module_version": "1.5.0",
      "_model_name": "ButtonModel",
      "_view_count": null,
      "_view_module": "@jupyter-widgets/controls",
      "_view_module_version": "1.5.0",
      "_view_name": "ButtonView",
      "button_style": "",
      "description": "Login",
      "disabled": false,
      "icon": "",
      "layout": "IPY_MODEL_9b748d2d4e844c0db63b4dab2a98155a",
      "style": "IPY_MODEL_7a795c79f66d42cdae2053fd2509c114",
      "tooltip": ""
     }
    },
    "034f1ef75bbf4e6ca276b0979e369333": {
     "model_module": "@jupyter-widgets/controls",
     "model_module_version": "1.5.0",
     "model_name": "DescriptionStyleModel",
     "state": {
      "_model_module": "@jupyter-widgets/controls",
      "_model_module_version": "1.5.0",
      "_model_name": "DescriptionStyleModel",
      "_view_count": null,
      "_view_module": "@jupyter-widgets/base",
      "_view_module_version": "1.2.0",
      "_view_name": "StyleView",
      "description_width": ""
     }
    },
    "1910631e0b0b4f54b4c586d47148ebd9": {
     "model_module": "@jupyter-widgets/base",
     "model_module_version": "1.2.0",
     "model_name": "LayoutModel",
     "state": {
      "_model_module": "@jupyter-widgets/base",
      "_model_module_version": "1.2.0",
      "_model_name": "LayoutModel",
      "_view_count": null,
      "_view_module": "@jupyter-widgets/base",
      "_view_module_version": "1.2.0",
      "_view_name": "LayoutView",
      "align_content": null,
      "align_items": null,
      "align_self": null,
      "border": null,
      "bottom": null,
      "display": null,
      "flex": null,
      "flex_flow": null,
      "grid_area": null,
      "grid_auto_columns": null,
      "grid_auto_flow": null,
      "grid_auto_rows": null,
      "grid_column": null,
      "grid_gap": null,
      "grid_row": null,
      "grid_template_areas": null,
      "grid_template_columns": null,
      "grid_template_rows": null,
      "height": null,
      "justify_content": null,
      "justify_items": null,
      "left": null,
      "margin": null,
      "max_height": null,
      "max_width": null,
      "min_height": null,
      "min_width": null,
      "object_fit": null,
      "object_position": null,
      "order": null,
      "overflow": null,
      "overflow_x": null,
      "overflow_y": null,
      "padding": null,
      "right": null,
      "top": null,
      "visibility": null,
      "width": null
     }
    },
    "33200d1f7bc945c99b0f919cf1089c60": {
     "model_module": "@jupyter-widgets/controls",
     "model_module_version": "1.5.0",
     "model_name": "DescriptionStyleModel",
     "state": {
      "_model_module": "@jupyter-widgets/controls",
      "_model_module_version": "1.5.0",
      "_model_name": "DescriptionStyleModel",
      "_view_count": null,
      "_view_module": "@jupyter-widgets/base",
      "_view_module_version": "1.2.0",
      "_view_name": "StyleView",
      "description_width": ""
     }
    },
    "56c9171f2b1c499fafa20cbb7aa1a051": {
     "model_module": "@jupyter-widgets/base",
     "model_module_version": "1.2.0",
     "model_name": "LayoutModel",
     "state": {
      "_model_module": "@jupyter-widgets/base",
      "_model_module_version": "1.2.0",
      "_model_name": "LayoutModel",
      "_view_count": null,
      "_view_module": "@jupyter-widgets/base",
      "_view_module_version": "1.2.0",
      "_view_name": "LayoutView",
      "align_content": null,
      "align_items": null,
      "align_self": null,
      "border": null,
      "bottom": null,
      "display": null,
      "flex": null,
      "flex_flow": null,
      "grid_area": null,
      "grid_auto_columns": null,
      "grid_auto_flow": null,
      "grid_auto_rows": null,
      "grid_column": null,
      "grid_gap": null,
      "grid_row": null,
      "grid_template_areas": null,
      "grid_template_columns": null,
      "grid_template_rows": null,
      "height": null,
      "justify_content": null,
      "justify_items": null,
      "left": null,
      "margin": null,
      "max_height": null,
      "max_width": null,
      "min_height": null,
      "min_width": null,
      "object_fit": null,
      "object_position": null,
      "order": null,
      "overflow": null,
      "overflow_x": null,
      "overflow_y": null,
      "padding": null,
      "right": null,
      "top": null,
      "visibility": null,
      "width": null
     }
    },
    "66efeca0f34848e8a32d036c6d0810b3": {
     "model_module": "@jupyter-widgets/base",
     "model_module_version": "1.2.0",
     "model_name": "LayoutModel",
     "state": {
      "_model_module": "@jupyter-widgets/base",
      "_model_module_version": "1.2.0",
      "_model_name": "LayoutModel",
      "_view_count": null,
      "_view_module": "@jupyter-widgets/base",
      "_view_module_version": "1.2.0",
      "_view_name": "LayoutView",
      "align_content": null,
      "align_items": null,
      "align_self": null,
      "border": null,
      "bottom": null,
      "display": null,
      "flex": null,
      "flex_flow": null,
      "grid_area": null,
      "grid_auto_columns": null,
      "grid_auto_flow": null,
      "grid_auto_rows": null,
      "grid_column": null,
      "grid_gap": null,
      "grid_row": null,
      "grid_template_areas": null,
      "grid_template_columns": null,
      "grid_template_rows": null,
      "height": null,
      "justify_content": null,
      "justify_items": null,
      "left": null,
      "margin": null,
      "max_height": null,
      "max_width": null,
      "min_height": null,
      "min_width": null,
      "object_fit": null,
      "object_position": null,
      "order": null,
      "overflow": null,
      "overflow_x": null,
      "overflow_y": null,
      "padding": null,
      "right": null,
      "top": null,
      "visibility": null,
      "width": null
     }
    },
    "70347323d6974b8586b4051aab119297": {
     "model_module": "@jupyter-widgets/base",
     "model_module_version": "1.2.0",
     "model_name": "LayoutModel",
     "state": {
      "_model_module": "@jupyter-widgets/base",
      "_model_module_version": "1.2.0",
      "_model_name": "LayoutModel",
      "_view_count": null,
      "_view_module": "@jupyter-widgets/base",
      "_view_module_version": "1.2.0",
      "_view_name": "LayoutView",
      "align_content": null,
      "align_items": null,
      "align_self": null,
      "border": null,
      "bottom": null,
      "display": null,
      "flex": null,
      "flex_flow": null,
      "grid_area": null,
      "grid_auto_columns": null,
      "grid_auto_flow": null,
      "grid_auto_rows": null,
      "grid_column": null,
      "grid_gap": null,
      "grid_row": null,
      "grid_template_areas": null,
      "grid_template_columns": null,
      "grid_template_rows": null,
      "height": null,
      "justify_content": null,
      "justify_items": null,
      "left": null,
      "margin": null,
      "max_height": null,
      "max_width": null,
      "min_height": null,
      "min_width": null,
      "object_fit": null,
      "object_position": null,
      "order": null,
      "overflow": null,
      "overflow_x": null,
      "overflow_y": null,
      "padding": null,
      "right": null,
      "top": null,
      "visibility": null,
      "width": null
     }
    },
    "7a795c79f66d42cdae2053fd2509c114": {
     "model_module": "@jupyter-widgets/controls",
     "model_module_version": "1.5.0",
     "model_name": "ButtonStyleModel",
     "state": {
      "_model_module": "@jupyter-widgets/controls",
      "_model_module_version": "1.5.0",
      "_model_name": "ButtonStyleModel",
      "_view_count": null,
      "_view_module": "@jupyter-widgets/base",
      "_view_module_version": "1.2.0",
      "_view_name": "StyleView",
      "button_color": null,
      "font_weight": ""
     }
    },
    "7cd6838a2cae453aa582b61aa1d2abc3": {
     "model_module": "@jupyter-widgets/base",
     "model_module_version": "1.2.0",
     "model_name": "LayoutModel",
     "state": {
      "_model_module": "@jupyter-widgets/base",
      "_model_module_version": "1.2.0",
      "_model_name": "LayoutModel",
      "_view_count": null,
      "_view_module": "@jupyter-widgets/base",
      "_view_module_version": "1.2.0",
      "_view_name": "LayoutView",
      "align_content": null,
      "align_items": "center",
      "align_self": null,
      "border": null,
      "bottom": null,
      "display": "flex",
      "flex": null,
      "flex_flow": "column",
      "grid_area": null,
      "grid_auto_columns": null,
      "grid_auto_flow": null,
      "grid_auto_rows": null,
      "grid_column": null,
      "grid_gap": null,
      "grid_row": null,
      "grid_template_areas": null,
      "grid_template_columns": null,
      "grid_template_rows": null,
      "height": null,
      "justify_content": null,
      "justify_items": null,
      "left": null,
      "margin": null,
      "max_height": null,
      "max_width": null,
      "min_height": null,
      "min_width": null,
      "object_fit": null,
      "object_position": null,
      "order": null,
      "overflow": null,
      "overflow_x": null,
      "overflow_y": null,
      "padding": null,
      "right": null,
      "top": null,
      "visibility": null,
      "width": "50%"
     }
    },
    "8580b3d04fae42079de655f78029e7cf": {
     "model_module": "@jupyter-widgets/controls",
     "model_module_version": "1.5.0",
     "model_name": "HTMLModel",
     "state": {
      "_dom_classes": [],
      "_model_module": "@jupyter-widgets/controls",
      "_model_module_version": "1.5.0",
      "_model_name": "HTMLModel",
      "_view_count": null,
      "_view_module": "@jupyter-widgets/controls",
      "_view_module_version": "1.5.0",
      "_view_name": "HTMLView",
      "description": "",
      "description_tooltip": null,
      "layout": "IPY_MODEL_66efeca0f34848e8a32d036c6d0810b3",
      "placeholder": "​",
      "style": "IPY_MODEL_ab9ea9ac67504092ba806390f618ea7e",
      "value": "\n<b>Thank You</b></center>"
     }
    },
    "8ca80afb7cca4f27b79c0e9466cb39d7": {
     "model_module": "@jupyter-widgets/controls",
     "model_module_version": "1.5.0",
     "model_name": "LabelModel",
     "state": {
      "_dom_classes": [],
      "_model_module": "@jupyter-widgets/controls",
      "_model_module_version": "1.5.0",
      "_model_name": "LabelModel",
      "_view_count": null,
      "_view_module": "@jupyter-widgets/controls",
      "_view_module_version": "1.5.0",
      "_view_name": "LabelView",
      "description": "",
      "description_tooltip": null,
      "layout": "IPY_MODEL_b5678cfff8ea4d12a3db73219a1e3d89",
      "placeholder": "​",
      "style": "IPY_MODEL_ca77e6a590cf4a729b5e2e2258961919",
      "value": "Connecting..."
     }
    },
    "97cbc1a8326a4439943afa40cf9e9d7c": {
     "model_module": "@jupyter-widgets/controls",
     "model_module_version": "1.5.0",
     "model_name": "VBoxModel",
     "state": {
      "_dom_classes": [],
      "_model_module": "@jupyter-widgets/controls",
      "_model_module_version": "1.5.0",
      "_model_name": "VBoxModel",
      "_view_count": null,
      "_view_module": "@jupyter-widgets/controls",
      "_view_module_version": "1.5.0",
      "_view_name": "VBoxView",
      "box_style": "",
      "children": [
       "IPY_MODEL_bbb65ba5e5d344f19122a752b7985197"
      ],
      "layout": "IPY_MODEL_7cd6838a2cae453aa582b61aa1d2abc3"
     }
    },
    "9b748d2d4e844c0db63b4dab2a98155a": {
     "model_module": "@jupyter-widgets/base",
     "model_module_version": "1.2.0",
     "model_name": "LayoutModel",
     "state": {
      "_model_module": "@jupyter-widgets/base",
      "_model_module_version": "1.2.0",
      "_model_name": "LayoutModel",
      "_view_count": null,
      "_view_module": "@jupyter-widgets/base",
      "_view_module_version": "1.2.0",
      "_view_name": "LayoutView",
      "align_content": null,
      "align_items": null,
      "align_self": null,
      "border": null,
      "bottom": null,
      "display": null,
      "flex": null,
      "flex_flow": null,
      "grid_area": null,
      "grid_auto_columns": null,
      "grid_auto_flow": null,
      "grid_auto_rows": null,
      "grid_column": null,
      "grid_gap": null,
      "grid_row": null,
      "grid_template_areas": null,
      "grid_template_columns": null,
      "grid_template_rows": null,
      "height": null,
      "justify_content": null,
      "justify_items": null,
      "left": null,
      "margin": null,
      "max_height": null,
      "max_width": null,
      "min_height": null,
      "min_width": null,
      "object_fit": null,
      "object_position": null,
      "order": null,
      "overflow": null,
      "overflow_x": null,
      "overflow_y": null,
      "padding": null,
      "right": null,
      "top": null,
      "visibility": null,
      "width": null
     }
    },
    "ab9ea9ac67504092ba806390f618ea7e": {
     "model_module": "@jupyter-widgets/controls",
     "model_module_version": "1.5.0",
     "model_name": "DescriptionStyleModel",
     "state": {
      "_model_module": "@jupyter-widgets/controls",
      "_model_module_version": "1.5.0",
      "_model_name": "DescriptionStyleModel",
      "_view_count": null,
      "_view_module": "@jupyter-widgets/base",
      "_view_module_version": "1.2.0",
      "_view_name": "StyleView",
      "description_width": ""
     }
    },
    "b464b3197837475ab01e68bb97d79851": {
     "model_module": "@jupyter-widgets/controls",
     "model_module_version": "1.5.0",
     "model_name": "DescriptionStyleModel",
     "state": {
      "_model_module": "@jupyter-widgets/controls",
      "_model_module_version": "1.5.0",
      "_model_name": "DescriptionStyleModel",
      "_view_count": null,
      "_view_module": "@jupyter-widgets/base",
      "_view_module_version": "1.2.0",
      "_view_name": "StyleView",
      "description_width": ""
     }
    },
    "b5678cfff8ea4d12a3db73219a1e3d89": {
     "model_module": "@jupyter-widgets/base",
     "model_module_version": "1.2.0",
     "model_name": "LayoutModel",
     "state": {
      "_model_module": "@jupyter-widgets/base",
      "_model_module_version": "1.2.0",
      "_model_name": "LayoutModel",
      "_view_count": null,
      "_view_module": "@jupyter-widgets/base",
      "_view_module_version": "1.2.0",
      "_view_name": "LayoutView",
      "align_content": null,
      "align_items": null,
      "align_self": null,
      "border": null,
      "bottom": null,
      "display": null,
      "flex": null,
      "flex_flow": null,
      "grid_area": null,
      "grid_auto_columns": null,
      "grid_auto_flow": null,
      "grid_auto_rows": null,
      "grid_column": null,
      "grid_gap": null,
      "grid_row": null,
      "grid_template_areas": null,
      "grid_template_columns": null,
      "grid_template_rows": null,
      "height": null,
      "justify_content": null,
      "justify_items": null,
      "left": null,
      "margin": null,
      "max_height": null,
      "max_width": null,
      "min_height": null,
      "min_width": null,
      "object_fit": null,
      "object_position": null,
      "order": null,
      "overflow": null,
      "overflow_x": null,
      "overflow_y": null,
      "padding": null,
      "right": null,
      "top": null,
      "visibility": null,
      "width": null
     }
    },
    "bbb65ba5e5d344f19122a752b7985197": {
     "model_module": "@jupyter-widgets/controls",
     "model_module_version": "1.5.0",
     "model_name": "LabelModel",
     "state": {
      "_dom_classes": [],
      "_model_module": "@jupyter-widgets/controls",
      "_model_module_version": "1.5.0",
      "_model_name": "LabelModel",
      "_view_count": null,
      "_view_module": "@jupyter-widgets/controls",
      "_view_module_version": "1.5.0",
      "_view_name": "LabelView",
      "description": "",
      "description_tooltip": null,
      "layout": "IPY_MODEL_01eabd25007343b1893a5336bc25cbbe",
      "placeholder": "​",
      "style": "IPY_MODEL_034f1ef75bbf4e6ca276b0979e369333",
      "value": "Kaggle credentials successfully validated."
     }
    },
    "c0b56d8bb1a943468dd6af81b17bc220": {
     "model_module": "@jupyter-widgets/controls",
     "model_module_version": "1.5.0",
     "model_name": "PasswordModel",
     "state": {
      "_dom_classes": [],
      "_model_module": "@jupyter-widgets/controls",
      "_model_module_version": "1.5.0",
      "_model_name": "PasswordModel",
      "_view_count": null,
      "_view_module": "@jupyter-widgets/controls",
      "_view_module_version": "1.5.0",
      "_view_name": "PasswordView",
      "continuous_update": true,
      "description": "Token:",
      "description_tooltip": null,
      "disabled": false,
      "layout": "IPY_MODEL_1910631e0b0b4f54b4c586d47148ebd9",
      "placeholder": "​",
      "style": "IPY_MODEL_b464b3197837475ab01e68bb97d79851",
      "value": ""
     }
    },
    "ca77e6a590cf4a729b5e2e2258961919": {
     "model_module": "@jupyter-widgets/controls",
     "model_module_version": "1.5.0",
     "model_name": "DescriptionStyleModel",
     "state": {
      "_model_module": "@jupyter-widgets/controls",
      "_model_module_version": "1.5.0",
      "_model_name": "DescriptionStyleModel",
      "_view_count": null,
      "_view_module": "@jupyter-widgets/base",
      "_view_module_version": "1.2.0",
      "_view_name": "StyleView",
      "description_width": ""
     }
    },
    "ce502b37414a4b27ad7da7fe9571279e": {
     "model_module": "@jupyter-widgets/controls",
     "model_module_version": "1.5.0",
     "model_name": "TextModel",
     "state": {
      "_dom_classes": [],
      "_model_module": "@jupyter-widgets/controls",
      "_model_module_version": "1.5.0",
      "_model_name": "TextModel",
      "_view_count": null,
      "_view_module": "@jupyter-widgets/controls",
      "_view_module_version": "1.5.0",
      "_view_name": "TextView",
      "continuous_update": true,
      "description": "Username:",
      "description_tooltip": null,
      "disabled": false,
      "layout": "IPY_MODEL_56c9171f2b1c499fafa20cbb7aa1a051",
      "placeholder": "​",
      "style": "IPY_MODEL_33200d1f7bc945c99b0f919cf1089c60",
      "value": "matejkamenicky"
     }
    },
    "ef46c7ea9c9346949a9e491ec99eee38": {
     "model_module": "@jupyter-widgets/controls",
     "model_module_version": "1.5.0",
     "model_name": "DescriptionStyleModel",
     "state": {
      "_model_module": "@jupyter-widgets/controls",
      "_model_module_version": "1.5.0",
      "_model_name": "DescriptionStyleModel",
      "_view_count": null,
      "_view_module": "@jupyter-widgets/base",
      "_view_module_version": "1.2.0",
      "_view_name": "StyleView",
      "description_width": ""
     }
    },
    "f2a3b90dcab0422b8e4af1393fce1a3f": {
     "model_module": "@jupyter-widgets/controls",
     "model_module_version": "1.5.0",
     "model_name": "HTMLModel",
     "state": {
      "_dom_classes": [],
      "_model_module": "@jupyter-widgets/controls",
      "_model_module_version": "1.5.0",
      "_model_name": "HTMLModel",
      "_view_count": null,
      "_view_module": "@jupyter-widgets/controls",
      "_view_module_version": "1.5.0",
      "_view_name": "HTMLView",
      "description": "",
      "description_tooltip": null,
      "layout": "IPY_MODEL_70347323d6974b8586b4051aab119297",
      "placeholder": "​",
      "style": "IPY_MODEL_ef46c7ea9c9346949a9e491ec99eee38",
      "value": "<center> <img\nsrc=https://www.kaggle.com/static/images/site-logo.png\nalt='Kaggle'> <br> Create an API token from <a\nhref=\"https://www.kaggle.com/settings/account\" target=\"_blank\">your Kaggle\nsettings page</a> and paste it below along with your Kaggle username. <br> </center>"
     }
    }
   }
  }
 },
 "nbformat": 4,
 "nbformat_minor": 0
}
