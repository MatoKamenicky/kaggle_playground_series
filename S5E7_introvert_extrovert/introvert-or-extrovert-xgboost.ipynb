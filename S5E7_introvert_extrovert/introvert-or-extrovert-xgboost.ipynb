{
 "cells": [
  {
   "cell_type": "code",
   "execution_count": null,
   "metadata": {
    "colab": {
     "base_uri": "https://localhost:8080/",
     "height": 84,
     "referenced_widgets": [
      "8183080a479b40428e965a4adfad8f56",
      "80ffc32c802542fa9f802ab58a04c7f9",
      "4b1679c192ec44e7a9a6d1e50a916724",
      "f7019d7de1f34d769095d2a46ef1a191",
      "3687e476b3be4475878f36dd06602540",
      "8bafd3a63cdd470185b7767444e29355",
      "0c0cac3eae1b4421bcabad5936ec3baf",
      "aa2c6f09d882476aac9953e75656db2d",
      "b85e15f961f6450bb5becbabc3cc7c56",
      "dd1d99fee8424a91853cacef5847be06",
      "46ac7e3b42d74ab980c10b8209c15ba1",
      "60f85ef8c131433d9b1fad50c9f0894a",
      "2ac26372aa0a4ea4b700e13d67aa9de0",
      "18ff259051fa40e19243689f0567f411",
      "f7bbcf3ea210493aa010dff3285f7fab",
      "6facbb033fc64cca8dcd0970e5b93e41",
      "29aa639e22754fc0b554be955ad28e56",
      "5e8a71cf2a59478ea339d396a2548323",
      "c3c2269670fb4154b8370a882bb8aa1a",
      "c7bb16357d1441cfbb5e1ced7d950ed4",
      "b642757e4339492a9ebf8a654a82c118",
      "70e5558198f14bd58d45189a8ef66e6c",
      "dcff59163f174abfa7ad2ca117a90a28"
     ]
    },
    "executionInfo": {
     "elapsed": 602,
     "status": "ok",
     "timestamp": 1753792468227,
     "user": {
      "displayName": "Matej Kamenicky",
      "userId": "04927559039197615042"
     },
     "user_tz": -120
    },
    "id": "SELEIjvNt5y-",
    "outputId": "3c65ae3b-9392-4d93-b76b-dcdbcd2d880c"
   },
   "outputs": [],
   "source": [
    "import kagglehub\n",
    "kagglehub.login()"
   ]
  },
  {
   "cell_type": "code",
   "execution_count": null,
   "metadata": {
    "colab": {
     "base_uri": "https://localhost:8080/"
    },
    "executionInfo": {
     "elapsed": 1845,
     "status": "ok",
     "timestamp": 1753803895340,
     "user": {
      "displayName": "Matej Kamenicky",
      "userId": "04927559039197615042"
     },
     "user_tz": -120
    },
    "id": "3iodMsvGt7fu",
    "outputId": "b3002d40-bd38-4ccc-d88f-6ec1dc172cf7"
   },
   "outputs": [],
   "source": [
    "data_path = kagglehub.competition_download('playground-series-s5e7')\n",
    "\n",
    "print('Data source import complete.')"
   ]
  },
  {
   "cell_type": "code",
   "execution_count": null,
   "metadata": {
    "colab": {
     "base_uri": "https://localhost:8080/"
    },
    "executionInfo": {
     "elapsed": 2,
     "status": "ok",
     "timestamp": 1753792480646,
     "user": {
      "displayName": "Matej Kamenicky",
      "userId": "04927559039197615042"
     },
     "user_tz": -120
    },
    "id": "O2_v9mhyuFl3",
    "outputId": "91fec095-3ed4-407c-dd34-e2ca124434dc"
   },
   "outputs": [],
   "source": [
    "print(data_path)"
   ]
  },
  {
   "cell_type": "code",
   "execution_count": null,
   "metadata": {
    "colab": {
     "base_uri": "https://localhost:8080/"
    },
    "executionInfo": {
     "elapsed": 17047,
     "status": "ok",
     "timestamp": 1753792498024,
     "user": {
      "displayName": "Matej Kamenicky",
      "userId": "04927559039197615042"
     },
     "user_tz": -120
    },
    "id": "5hoA9lpPQU4H",
    "outputId": "8b78598e-60ef-47bc-9ae5-b0a5b7a9bd3c"
   },
   "outputs": [],
   "source": [
    "from google.colab import drive\n",
    "drive.mount('/content/drive')"
   ]
  },
  {
   "cell_type": "code",
   "execution_count": null,
   "metadata": {
    "_cell_guid": "b1076dfc-b9ad-4769-8c92-a6c4dae69d19",
    "_uuid": "8f2839f25d086af736a60e9eeb907d3b93b6e0e5",
    "execution": {
     "iopub.execute_input": "2025-07-16T13:47:58.884866Z",
     "iopub.status.busy": "2025-07-16T13:47:58.884505Z",
     "iopub.status.idle": "2025-07-16T13:48:00.327794Z",
     "shell.execute_reply": "2025-07-16T13:48:00.327003Z",
     "shell.execute_reply.started": "2025-07-16T13:47:58.884790Z"
    },
    "id": "2QlW-90EtynM"
   },
   "outputs": [],
   "source": [
    "import pandas as pd\n",
    "import numpy as np\n",
    "import matplotlib.pyplot as plt\n",
    "import seaborn as sns\n",
    "import os"
   ]
  },
  {
   "cell_type": "code",
   "execution_count": null,
   "metadata": {
    "execution": {
     "iopub.execute_input": "2025-07-16T13:48:00.329768Z",
     "iopub.status.busy": "2025-07-16T13:48:00.329308Z",
     "iopub.status.idle": "2025-07-16T13:48:00.334795Z",
     "shell.execute_reply": "2025-07-16T13:48:00.333650Z",
     "shell.execute_reply.started": "2025-07-16T13:48:00.329741Z"
    },
    "id": "o0Ve6ifFtynU"
   },
   "outputs": [],
   "source": [
    "import warnings\n",
    "warnings.filterwarnings(\"ignore\")"
   ]
  },
  {
   "cell_type": "code",
   "execution_count": null,
   "metadata": {
    "execution": {
     "iopub.execute_input": "2025-07-16T13:48:00.336505Z",
     "iopub.status.busy": "2025-07-16T13:48:00.336094Z",
     "iopub.status.idle": "2025-07-16T13:48:00.418649Z",
     "shell.execute_reply": "2025-07-16T13:48:00.417744Z",
     "shell.execute_reply.started": "2025-07-16T13:48:00.336474Z"
    },
    "id": "3VmQZb1atynW"
   },
   "outputs": [],
   "source": [
    "data = pd.read_csv(os.path.join(data_path, 'train.csv'))\n",
    "test_data = pd.read_csv(os.path.join(data_path, 'test.csv'))"
   ]
  },
  {
   "cell_type": "markdown",
   "metadata": {
    "id": "4n6RlpKJrh1i"
   },
   "source": [
    "Original dataset"
   ]
  },
  {
   "cell_type": "code",
   "execution_count": null,
   "metadata": {
    "id": "aFcX-WYgPFTr"
   },
   "outputs": [],
   "source": [
    "# df_orig = pd.read_csv('/content/drive/MyDrive/code/kaggle/S5E7_introvert_extrovert/personality_datasert.csv')"
   ]
  },
  {
   "cell_type": "code",
   "execution_count": null,
   "metadata": {
    "id": "rzh9nlqGRrUU"
   },
   "outputs": [],
   "source": [
    "# df_orig.head()"
   ]
  },
  {
   "cell_type": "code",
   "execution_count": null,
   "metadata": {
    "id": "Z_erJT0WStlD"
   },
   "outputs": [],
   "source": [
    "# data = data.drop(columns=['id'])\n",
    "\n",
    "# common_cols = data.columns.intersection(df_orig.columns)\n",
    "\n",
    "# train_aligned = data[common_cols]\n",
    "# df_orig_aligned = df_orig[common_cols]\n",
    "\n",
    "# data = pd.concat([train_aligned, df_orig_aligned], axis=0).reset_index(drop=True)"
   ]
  },
  {
   "cell_type": "markdown",
   "metadata": {
    "id": "U5MB2N4PtynY"
   },
   "source": [
    "# EDA"
   ]
  },
  {
   "cell_type": "code",
   "execution_count": null,
   "metadata": {
    "colab": {
     "base_uri": "https://localhost:8080/"
    },
    "execution": {
     "iopub.execute_input": "2025-07-16T13:48:00.462441Z",
     "iopub.status.busy": "2025-07-16T13:48:00.462086Z",
     "iopub.status.idle": "2025-07-16T13:48:00.469458Z",
     "shell.execute_reply": "2025-07-16T13:48:00.468539Z",
     "shell.execute_reply.started": "2025-07-16T13:48:00.462415Z"
    },
    "executionInfo": {
     "elapsed": 9,
     "status": "ok",
     "timestamp": 1753805507357,
     "user": {
      "displayName": "Matej Kamenicky",
      "userId": "04927559039197615042"
     },
     "user_tz": -120
    },
    "id": "0CuVlypntynb",
    "outputId": "7afc66fb-3b67-4904-9376-5305eaa72d1f"
   },
   "outputs": [],
   "source": [
    "data.shape"
   ]
  },
  {
   "cell_type": "code",
   "execution_count": null,
   "metadata": {
    "colab": {
     "base_uri": "https://localhost:8080/",
     "height": 206
    },
    "execution": {
     "iopub.execute_input": "2025-07-16T13:48:00.620729Z",
     "iopub.status.busy": "2025-07-16T13:48:00.620433Z",
     "iopub.status.idle": "2025-07-16T13:48:00.650433Z",
     "shell.execute_reply": "2025-07-16T13:48:00.649542Z",
     "shell.execute_reply.started": "2025-07-16T13:48:00.620704Z"
    },
    "executionInfo": {
     "elapsed": 12,
     "status": "ok",
     "timestamp": 1753805507755,
     "user": {
      "displayName": "Matej Kamenicky",
      "userId": "04927559039197615042"
     },
     "user_tz": -120
    },
    "id": "M9bZJxMKtynd",
    "outputId": "d84336dd-f6ba-46b8-c19c-70224900afda"
   },
   "outputs": [],
   "source": [
    "data.head()"
   ]
  },
  {
   "cell_type": "code",
   "execution_count": null,
   "metadata": {
    "colab": {
     "base_uri": "https://localhost:8080/",
     "height": 300
    },
    "execution": {
     "iopub.execute_input": "2025-07-16T13:48:00.783821Z",
     "iopub.status.busy": "2025-07-16T13:48:00.783430Z",
     "iopub.status.idle": "2025-07-16T13:48:00.828958Z",
     "shell.execute_reply": "2025-07-16T13:48:00.828093Z",
     "shell.execute_reply.started": "2025-07-16T13:48:00.783772Z"
    },
    "executionInfo": {
     "elapsed": 583,
     "status": "ok",
     "timestamp": 1753805508351,
     "user": {
      "displayName": "Matej Kamenicky",
      "userId": "04927559039197615042"
     },
     "user_tz": -120
    },
    "id": "8X_Kb9kFtyng",
    "outputId": "14615902-cdf3-4528-d8ae-2176261cb56a"
   },
   "outputs": [],
   "source": [
    "data.describe()"
   ]
  },
  {
   "cell_type": "code",
   "execution_count": null,
   "metadata": {
    "colab": {
     "base_uri": "https://localhost:8080/"
    },
    "execution": {
     "iopub.execute_input": "2025-07-16T13:48:00.935394Z",
     "iopub.status.busy": "2025-07-16T13:48:00.934728Z",
     "iopub.status.idle": "2025-07-16T13:48:00.962270Z",
     "shell.execute_reply": "2025-07-16T13:48:00.961512Z",
     "shell.execute_reply.started": "2025-07-16T13:48:00.935366Z"
    },
    "executionInfo": {
     "elapsed": 9,
     "status": "ok",
     "timestamp": 1753805508535,
     "user": {
      "displayName": "Matej Kamenicky",
      "userId": "04927559039197615042"
     },
     "user_tz": -120
    },
    "id": "1Rg9UlKQtyni",
    "outputId": "9fccfbc7-1377-4922-ab14-a3596e509ad0"
   },
   "outputs": [],
   "source": [
    "data.info()"
   ]
  },
  {
   "cell_type": "code",
   "execution_count": null,
   "metadata": {
    "colab": {
     "base_uri": "https://localhost:8080/"
    },
    "execution": {
     "iopub.execute_input": "2025-07-16T13:48:01.090869Z",
     "iopub.status.busy": "2025-07-16T13:48:01.090525Z",
     "iopub.status.idle": "2025-07-16T13:48:01.110118Z",
     "shell.execute_reply": "2025-07-16T13:48:01.109010Z",
     "shell.execute_reply.started": "2025-07-16T13:48:01.090839Z"
    },
    "executionInfo": {
     "elapsed": 10,
     "status": "ok",
     "timestamp": 1753805508553,
     "user": {
      "displayName": "Matej Kamenicky",
      "userId": "04927559039197615042"
     },
     "user_tz": -120
    },
    "id": "Vg89OBN_tynk",
    "outputId": "a6bd38b5-7528-4549-8628-b65afddc904d"
   },
   "outputs": [],
   "source": [
    "missing_table = pd.DataFrame({\n",
    "    'Missing Values': data.isna().sum(),\n",
    "    'Percentage (%)': (data.isnull().mean() * 100).round(2)\n",
    "})\n",
    "\n",
    "print(missing_table.sort_values(by='Missing Values', ascending=False))"
   ]
  },
  {
   "cell_type": "code",
   "execution_count": null,
   "metadata": {
    "colab": {
     "base_uri": "https://localhost:8080/",
     "height": 366
    },
    "execution": {
     "iopub.execute_input": "2025-07-16T13:48:01.251930Z",
     "iopub.status.busy": "2025-07-16T13:48:01.251345Z",
     "iopub.status.idle": "2025-07-16T13:48:01.268441Z",
     "shell.execute_reply": "2025-07-16T13:48:01.267100Z",
     "shell.execute_reply.started": "2025-07-16T13:48:01.251904Z"
    },
    "executionInfo": {
     "elapsed": 23,
     "status": "ok",
     "timestamp": 1753805508585,
     "user": {
      "displayName": "Matej Kamenicky",
      "userId": "04927559039197615042"
     },
     "user_tz": -120
    },
    "id": "pi0UzxE1tynl",
    "outputId": "c0084de1-53d4-47b2-b7eb-e939f43841bf"
   },
   "outputs": [],
   "source": [
    "data.nunique()"
   ]
  },
  {
   "cell_type": "code",
   "execution_count": null,
   "metadata": {
    "colab": {
     "base_uri": "https://localhost:8080/"
    },
    "executionInfo": {
     "elapsed": 10,
     "status": "ok",
     "timestamp": 1753805508618,
     "user": {
      "displayName": "Matej Kamenicky",
      "userId": "04927559039197615042"
     },
     "user_tz": -120
    },
    "id": "CO-WTJJ2TeQZ",
    "outputId": "9d182b4f-106b-479b-ec91-d9c9de085ba5"
   },
   "outputs": [],
   "source": [
    "print(f\"Duplicates before dropping: {data.duplicated().sum()}\")\n",
    "data = data.drop_duplicates()\n",
    "print(f\"Duplicates after dropping: {data.duplicated().sum()}\")"
   ]
  },
  {
   "cell_type": "markdown",
   "metadata": {
    "id": "zuV9iqsktynn"
   },
   "source": [
    "\n",
    "Check dataset balance"
   ]
  },
  {
   "cell_type": "code",
   "execution_count": null,
   "metadata": {
    "colab": {
     "base_uri": "https://localhost:8080/",
     "height": 428
    },
    "execution": {
     "iopub.execute_input": "2025-07-16T13:48:01.521656Z",
     "iopub.status.busy": "2025-07-16T13:48:01.521384Z",
     "iopub.status.idle": "2025-07-16T13:48:01.781480Z",
     "shell.execute_reply": "2025-07-16T13:48:01.780613Z",
     "shell.execute_reply.started": "2025-07-16T13:48:01.521638Z"
    },
    "executionInfo": {
     "elapsed": 9,
     "status": "ok",
     "timestamp": 1753805508636,
     "user": {
      "displayName": "Matej Kamenicky",
      "userId": "04927559039197615042"
     },
     "user_tz": -120
    },
    "id": "B4a6jlkztynn",
    "outputId": "977d72a2-2982-4c91-c4e7-c6d2ca06a950"
   },
   "outputs": [],
   "source": [
    "data['Personality'].value_counts().plot.pie(autopct='%1.1f%%', startangle=90, explode=(0,0.1), colors=['#4c72b0', '#aec7e8'])\n",
    "plt.title('Introvert or extrovert distribution')\n",
    "plt.ylabel('')\n",
    "plt.show()"
   ]
  },
  {
   "cell_type": "markdown",
   "metadata": {
    "id": "uJkxZCP8tyns"
   },
   "source": [
    "# Data visualisations"
   ]
  },
  {
   "cell_type": "code",
   "execution_count": null,
   "metadata": {
    "colab": {
     "base_uri": "https://localhost:8080/",
     "height": 465
    },
    "execution": {
     "iopub.execute_input": "2025-07-16T13:48:01.810475Z",
     "iopub.status.busy": "2025-07-16T13:48:01.810204Z",
     "iopub.status.idle": "2025-07-16T13:48:01.986830Z",
     "shell.execute_reply": "2025-07-16T13:48:01.986069Z",
     "shell.execute_reply.started": "2025-07-16T13:48:01.810457Z"
    },
    "executionInfo": {
     "elapsed": 11,
     "status": "ok",
     "timestamp": 1753805508657,
     "user": {
      "displayName": "Matej Kamenicky",
      "userId": "04927559039197615042"
     },
     "user_tz": -120
    },
    "id": "zzkOg5Sotynt",
    "outputId": "8fc9bfe6-afc6-48ae-f875-6b692ace107e"
   },
   "outputs": [],
   "source": [
    "plt.figure(figsize=(12, 5))\n",
    "sns.countplot(data=data, x=\"Time_spent_Alone\")\n",
    "plt.xlabel('Time spent alone')\n",
    "plt.ylabel('')\n",
    "plt.show()"
   ]
  },
  {
   "cell_type": "code",
   "execution_count": null,
   "metadata": {
    "colab": {
     "base_uri": "https://localhost:8080/",
     "height": 428
    },
    "execution": {
     "iopub.execute_input": "2025-07-16T13:48:01.988361Z",
     "iopub.status.busy": "2025-07-16T13:48:01.988089Z",
     "iopub.status.idle": "2025-07-16T13:48:02.096276Z",
     "shell.execute_reply": "2025-07-16T13:48:02.095316Z",
     "shell.execute_reply.started": "2025-07-16T13:48:01.988336Z"
    },
    "executionInfo": {
     "elapsed": 10,
     "status": "ok",
     "timestamp": 1753805508677,
     "user": {
      "displayName": "Matej Kamenicky",
      "userId": "04927559039197615042"
     },
     "user_tz": -120
    },
    "id": "looZUq4Atynu",
    "outputId": "f4b70729-e439-4731-ad1e-1abae8957772"
   },
   "outputs": [],
   "source": [
    "data['Stage_fear'].value_counts().plot.pie(autopct='%1.1f%%', startangle=90, explode=(0,0.1), colors=['#4c72b0', '#aec7e8'])\n",
    "plt.title('Stage fear')\n",
    "plt.ylabel('')\n",
    "plt.show()"
   ]
  },
  {
   "cell_type": "code",
   "execution_count": null,
   "metadata": {
    "colab": {
     "base_uri": "https://localhost:8080/",
     "height": 449
    },
    "execution": {
     "iopub.execute_input": "2025-07-16T13:48:02.097794Z",
     "iopub.status.busy": "2025-07-16T13:48:02.097507Z",
     "iopub.status.idle": "2025-07-16T13:48:02.269869Z",
     "shell.execute_reply": "2025-07-16T13:48:02.268967Z",
     "shell.execute_reply.started": "2025-07-16T13:48:02.097764Z"
    },
    "executionInfo": {
     "elapsed": 18,
     "status": "ok",
     "timestamp": 1753805508717,
     "user": {
      "displayName": "Matej Kamenicky",
      "userId": "04927559039197615042"
     },
     "user_tz": -120
    },
    "id": "j18rD3E2tynv",
    "outputId": "587b95dd-a856-4a80-e75a-3f06caa9f345"
   },
   "outputs": [],
   "source": [
    "sns.countplot(data=data, x=\"Social_event_attendance\")\n",
    "plt.xlabel('Social event attendance')\n",
    "plt.ylabel('')\n",
    "plt.show()"
   ]
  },
  {
   "cell_type": "code",
   "execution_count": null,
   "metadata": {
    "colab": {
     "base_uri": "https://localhost:8080/",
     "height": 449
    },
    "execution": {
     "iopub.execute_input": "2025-07-16T13:48:02.271552Z",
     "iopub.status.busy": "2025-07-16T13:48:02.271220Z",
     "iopub.status.idle": "2025-07-16T13:48:02.513469Z",
     "shell.execute_reply": "2025-07-16T13:48:02.512578Z",
     "shell.execute_reply.started": "2025-07-16T13:48:02.271524Z"
    },
    "executionInfo": {
     "elapsed": 12,
     "status": "ok",
     "timestamp": 1753805508739,
     "user": {
      "displayName": "Matej Kamenicky",
      "userId": "04927559039197615042"
     },
     "user_tz": -120
    },
    "id": "7fs51WD0tynw",
    "outputId": "b1a12686-8df8-4577-8081-9a4fd6f6012f"
   },
   "outputs": [],
   "source": [
    "sns.countplot(data=data, x=\"Going_outside\")\n",
    "plt.xlabel('Going outside')\n",
    "plt.ylabel('')\n",
    "plt.show()"
   ]
  },
  {
   "cell_type": "code",
   "execution_count": null,
   "metadata": {
    "colab": {
     "base_uri": "https://localhost:8080/",
     "height": 428
    },
    "execution": {
     "iopub.execute_input": "2025-07-16T13:48:02.515046Z",
     "iopub.status.busy": "2025-07-16T13:48:02.514742Z",
     "iopub.status.idle": "2025-07-16T13:48:02.619563Z",
     "shell.execute_reply": "2025-07-16T13:48:02.618853Z",
     "shell.execute_reply.started": "2025-07-16T13:48:02.515024Z"
    },
    "executionInfo": {
     "elapsed": 11,
     "status": "ok",
     "timestamp": 1753805508759,
     "user": {
      "displayName": "Matej Kamenicky",
      "userId": "04927559039197615042"
     },
     "user_tz": -120
    },
    "id": "o0Ga6dAqtynx",
    "outputId": "4a491425-aae5-4a9f-83e6-3b0b0234c611"
   },
   "outputs": [],
   "source": [
    "data['Drained_after_socializing'].value_counts().plot.pie(autopct='%1.1f%%', startangle=90, explode=(0,0.1), colors=['#4c72b0', '#aec7e8'])\n",
    "plt.title('Drained after socializing')\n",
    "plt.ylabel('')\n",
    "plt.show()"
   ]
  },
  {
   "cell_type": "code",
   "execution_count": null,
   "metadata": {
    "colab": {
     "base_uri": "https://localhost:8080/",
     "height": 449
    },
    "execution": {
     "iopub.execute_input": "2025-07-16T13:48:06.942521Z",
     "iopub.status.busy": "2025-07-16T13:48:06.942237Z",
     "iopub.status.idle": "2025-07-16T13:48:07.140067Z",
     "shell.execute_reply": "2025-07-16T13:48:07.139092Z",
     "shell.execute_reply.started": "2025-07-16T13:48:06.942498Z"
    },
    "executionInfo": {
     "elapsed": 11,
     "status": "ok",
     "timestamp": 1753805508794,
     "user": {
      "displayName": "Matej Kamenicky",
      "userId": "04927559039197615042"
     },
     "user_tz": -120
    },
    "id": "sQjc-ovttynx",
    "outputId": "a79b26d4-daa0-4161-8e0c-8dc0693449dc"
   },
   "outputs": [],
   "source": [
    "sns.countplot(data=data, x=\"Friends_circle_size\")\n",
    "plt.xlabel('Number of friends')\n",
    "plt.ylabel('')\n",
    "plt.show()"
   ]
  },
  {
   "cell_type": "code",
   "execution_count": null,
   "metadata": {
    "colab": {
     "base_uri": "https://localhost:8080/",
     "height": 449
    },
    "execution": {
     "iopub.execute_input": "2025-07-16T13:48:07.141831Z",
     "iopub.status.busy": "2025-07-16T13:48:07.141471Z",
     "iopub.status.idle": "2025-07-16T13:48:07.300992Z",
     "shell.execute_reply": "2025-07-16T13:48:07.299933Z",
     "shell.execute_reply.started": "2025-07-16T13:48:07.141780Z"
    },
    "executionInfo": {
     "elapsed": 20,
     "status": "ok",
     "timestamp": 1753805508824,
     "user": {
      "displayName": "Matej Kamenicky",
      "userId": "04927559039197615042"
     },
     "user_tz": -120
    },
    "id": "SJ5TpenPtyny",
    "outputId": "81e1f505-0bf8-4f6c-9138-0c6da47768a5"
   },
   "outputs": [],
   "source": [
    "sns.countplot(data=data, x=\"Post_frequency\")\n",
    "plt.xlabel('Frequency of posting')\n",
    "plt.ylabel('')\n",
    "plt.show()"
   ]
  },
  {
   "cell_type": "code",
   "execution_count": null,
   "metadata": {
    "colab": {
     "base_uri": "https://localhost:8080/",
     "height": 545
    },
    "execution": {
     "iopub.execute_input": "2025-07-16T13:48:07.302922Z",
     "iopub.status.busy": "2025-07-16T13:48:07.302535Z",
     "iopub.status.idle": "2025-07-16T13:48:07.680503Z",
     "shell.execute_reply": "2025-07-16T13:48:07.679602Z",
     "shell.execute_reply.started": "2025-07-16T13:48:07.302881Z"
    },
    "executionInfo": {
     "elapsed": 73,
     "status": "ok",
     "timestamp": 1753805508907,
     "user": {
      "displayName": "Matej Kamenicky",
      "userId": "04927559039197615042"
     },
     "user_tz": -120
    },
    "id": "7WlF4zTNtyny",
    "outputId": "1f141110-d2bc-4046-e219-cd1312378cb3"
   },
   "outputs": [],
   "source": [
    "plt.figure(figsize=(16, 6))\n",
    "\n",
    "data_corr = data.corr(numeric_only=True)\n",
    "\n",
    "heatmap = sns.heatmap(data_corr.corr(), vmin=-1, vmax=1, annot=True, cmap='BrBG')\n",
    "heatmap.set_title('Correlation Heatmap', fontdict={'fontsize':12})\n",
    "\n",
    "plt.show()"
   ]
  },
  {
   "cell_type": "markdown",
   "metadata": {
    "id": "7ZmuAivrtynz"
   },
   "source": [
    "# Data preprocessing"
   ]
  },
  {
   "cell_type": "code",
   "execution_count": null,
   "metadata": {
    "execution": {
     "iopub.execute_input": "2025-07-16T13:48:10.065943Z",
     "iopub.status.busy": "2025-07-16T13:48:10.065605Z",
     "iopub.status.idle": "2025-07-16T13:48:10.528057Z",
     "shell.execute_reply": "2025-07-16T13:48:10.526881Z",
     "shell.execute_reply.started": "2025-07-16T13:48:10.065919Z"
    },
    "id": "t8mriUJhtynz"
   },
   "outputs": [],
   "source": [
    "from sklearn.preprocessing import OneHotEncoder, LabelEncoder, OrdinalEncoder, StandardScaler\n",
    "from sklearn.model_selection import train_test_split, StratifiedKFold\n",
    "from sklearn.compose import ColumnTransformer, make_column_selector\n",
    "from sklearn.pipeline import Pipeline\n",
    "from sklearn.base import BaseEstimator, TransformerMixin\n",
    "from sklearn.impute import SimpleImputer\n",
    "from sklearn.utils import shuffle"
   ]
  },
  {
   "cell_type": "code",
   "execution_count": null,
   "metadata": {
    "execution": {
     "iopub.execute_input": "2025-07-16T13:48:10.529998Z",
     "iopub.status.busy": "2025-07-16T13:48:10.529620Z",
     "iopub.status.idle": "2025-07-16T13:48:10.536402Z",
     "shell.execute_reply": "2025-07-16T13:48:10.535448Z",
     "shell.execute_reply.started": "2025-07-16T13:48:10.529971Z"
    },
    "id": "soQJS5gFtynz"
   },
   "outputs": [],
   "source": [
    "X = data.drop(['Personality','id'], axis=1)\n",
    "y = data['Personality']"
   ]
  },
  {
   "cell_type": "code",
   "execution_count": null,
   "metadata": {
    "execution": {
     "iopub.execute_input": "2025-07-16T13:52:21.887368Z",
     "iopub.status.busy": "2025-07-16T13:52:21.887073Z",
     "iopub.status.idle": "2025-07-16T13:52:21.893350Z",
     "shell.execute_reply": "2025-07-16T13:52:21.892338Z",
     "shell.execute_reply.started": "2025-07-16T13:52:21.887347Z"
    },
    "id": "Cv19USe2tyn0"
   },
   "outputs": [],
   "source": [
    "class FeatureEngineer(BaseEstimator, TransformerMixin):\n",
    "    def __init__(self):\n",
    "        self.feature_names_out_ = None\n",
    "\n",
    "    def fit(self, X, y = None):\n",
    "      return self\n",
    "\n",
    "    def transform(self, X):\n",
    "        X = X.copy()\n",
    "\n",
    "        X['Social_score'] = X['Social_event_attendance'] + X['Going_outside'] + X['Friends_circle_size']\n",
    "        X['Introvert_score'] = X['Time_spent_Alone'] - X['Social_score']\n",
    "        X['Alone_to_friends_ratio'] = X['Time_spent_Alone'] / (X['Friends_circle_size'] + 1)\n",
    "        X['Social_post_interaction'] = X['Post_frequency'] * X['Social_event_attendance']\n",
    "\n",
    "        self.feature_names_out_ = X.columns.tolist()\n",
    "\n",
    "        return X\n",
    "\n",
    "    def get_feature_names_out(self, input_features=None):\n",
    "        return self.feature_names_out_"
   ]
  },
  {
   "cell_type": "code",
   "execution_count": null,
   "metadata": {
    "execution": {
     "iopub.execute_input": "2025-07-16T13:52:23.980963Z",
     "iopub.status.busy": "2025-07-16T13:52:23.980607Z",
     "iopub.status.idle": "2025-07-16T13:52:23.985572Z",
     "shell.execute_reply": "2025-07-16T13:52:23.984617Z",
     "shell.execute_reply.started": "2025-07-16T13:52:23.980940Z"
    },
    "id": "a6_7Av00tyn0"
   },
   "outputs": [],
   "source": [
    "numerical_pipeline = Pipeline([\n",
    "    ('imputer', SimpleImputer(strategy='mean', add_indicator=False)),\n",
    "    ('scaler', StandardScaler())\n",
    "])"
   ]
  },
  {
   "cell_type": "code",
   "execution_count": null,
   "metadata": {
    "execution": {
     "iopub.execute_input": "2025-07-16T13:52:24.137391Z",
     "iopub.status.busy": "2025-07-16T13:52:24.137089Z",
     "iopub.status.idle": "2025-07-16T13:52:24.141958Z",
     "shell.execute_reply": "2025-07-16T13:52:24.141005Z",
     "shell.execute_reply.started": "2025-07-16T13:52:24.137369Z"
    },
    "id": "6agwPwO8tyn1"
   },
   "outputs": [],
   "source": [
    "categorical_pipeline = Pipeline([\n",
    "    ('imputer', SimpleImputer(strategy='most_frequent', add_indicator=False)),\n",
    "    ('encoder', OrdinalEncoder())\n",
    "])"
   ]
  },
  {
   "cell_type": "code",
   "execution_count": null,
   "metadata": {
    "execution": {
     "iopub.execute_input": "2025-07-16T13:52:24.272890Z",
     "iopub.status.busy": "2025-07-16T13:52:24.272550Z",
     "iopub.status.idle": "2025-07-16T13:52:24.277745Z",
     "shell.execute_reply": "2025-07-16T13:52:24.276890Z",
     "shell.execute_reply.started": "2025-07-16T13:52:24.272866Z"
    },
    "id": "5SfMvcHHtyn1"
   },
   "outputs": [],
   "source": [
    "preprocessor = ColumnTransformer([\n",
    "    ('num', numerical_pipeline, make_column_selector(dtype_include=['int64', 'float64'])),\n",
    "    ('cat', categorical_pipeline, make_column_selector(dtype_include=['object']))\n",
    "])"
   ]
  },
  {
   "cell_type": "code",
   "execution_count": null,
   "metadata": {
    "id": "imtavvbsURJG"
   },
   "outputs": [],
   "source": [
    "le = LabelEncoder()\n",
    "y = le.fit_transform(y)"
   ]
  },
  {
   "cell_type": "markdown",
   "metadata": {
    "id": "uDLNSxmrtyn3"
   },
   "source": [
    "# Model building"
   ]
  },
  {
   "cell_type": "code",
   "execution_count": null,
   "metadata": {
    "colab": {
     "base_uri": "https://localhost:8080/",
     "height": 43
    },
    "execution": {
     "iopub.execute_input": "2025-07-16T13:52:24.681850Z",
     "iopub.status.busy": "2025-07-16T13:52:24.681514Z",
     "iopub.status.idle": "2025-07-16T13:52:24.687227Z",
     "shell.execute_reply": "2025-07-16T13:52:24.685933Z",
     "shell.execute_reply.started": "2025-07-16T13:52:24.681796Z"
    },
    "executionInfo": {
     "elapsed": 21,
     "status": "ok",
     "timestamp": 1753805511002,
     "user": {
      "displayName": "Matej Kamenicky",
      "userId": "04927559039197615042"
     },
     "user_tz": -120
    },
    "id": "82QRb3pEtyn3",
    "outputId": "c663e1cd-1da7-4600-dd5d-adeb7658a46c"
   },
   "outputs": [],
   "source": [
    "from xgboost import XGBClassifier\n",
    "import xgboost as xgb\n",
    "from sklearn.model_selection import StratifiedKFold, cross_val_score, RepeatedStratifiedKFold\n",
    "from collections import Counter\n",
    "from sklearn.metrics import accuracy_score\n",
    "from sklearn.feature_selection import SelectFromModel\n",
    "import shap\n",
    "shap.initjs()"
   ]
  },
  {
   "cell_type": "code",
   "execution_count": null,
   "metadata": {
    "id": "hj18zVT0vPze"
   },
   "outputs": [],
   "source": [
    "counter = Counter(y)\n",
    "scale_pos_weight = counter[0] / counter[1]"
   ]
  },
  {
   "cell_type": "code",
   "execution_count": null,
   "metadata": {
    "id": "M9ge9R2Y2V4X"
   },
   "outputs": [],
   "source": [
    "cv = StratifiedKFold(n_splits=10, shuffle=True, random_state=42)"
   ]
  },
  {
   "cell_type": "code",
   "execution_count": null,
   "metadata": {
    "id": "I2mTRKHx7apG"
   },
   "outputs": [],
   "source": [
    "best_params =  {'max_depth': 5,\n",
    "                  'learning_rate': 0.016936843011325364,\n",
    "                  'n_estimators': 958,\n",
    "                  'subsample': 0.5385682613272109,\n",
    "                  'colsample_bytree': 0.5185754497137016,\n",
    "                  'min_child_weight': 1,\n",
    "                  'gamma': 0.1832798205532591,\n",
    "                  'n_jobs': -1,\n",
    "                  \"objective\" : \"binary:logistic\",\n",
    "                  \"eval_metric\" : \"logloss\"\n",
    "                  }"
   ]
  },
  {
   "cell_type": "code",
   "execution_count": null,
   "metadata": {
    "id": "-wuaW6889iT5"
   },
   "outputs": [],
   "source": [
    "lgbm_params = {'classifier__colsample_bytree': 0.7,\n",
    "               'classifier__learning_rate': 0.05,\n",
    "               'classifier__n_estimators': 300,\n",
    "               'classifier__num_leaves': 20,\n",
    "               'classifier__subsample': 0.7}"
   ]
  },
  {
   "cell_type": "code",
   "execution_count": null,
   "metadata": {
    "id": "UPBcuvwzvBl7"
   },
   "outputs": [],
   "source": [
    "# def objective(trial):\n",
    "#     params = {\n",
    "#         'max_depth': trial.suggest_int('max_depth', 3, 18),\n",
    "#         'learning_rate': trial.suggest_float('learning_rate', 0.001, 0.1),\n",
    "#         'n_estimators': trial.suggest_int('n_estimators', 200, 1000),\n",
    "#         'subsample': trial.suggest_float('subsample', 0.5, 1.0),\n",
    "#         'colsample_bytree': trial.suggest_float('colsample_bytree', 0.5, 1.0),\n",
    "#         'min_child_weight': trial.suggest_int('min_child_weight', 1, 10),\n",
    "#         'gamma': trial.suggest_float('gamma', 0, 5),\n",
    "#     }\n",
    "\n",
    "\n",
    "#     xgb_pipeline = Pipeline([\n",
    "#     ('features', FeatureEngineer()),\n",
    "#     ('preprocessing', preprocessor),\n",
    "#     ('classifier', XGBClassifier(**params,\n",
    "#                                  tree_method = 'hist',\n",
    "#                                  device =  'cuda',\n",
    "#                                  scale_pos_weight = scale_pos_weight))\n",
    "#     ])\n",
    "\n",
    "\n",
    "#     score = cross_val_score(xgb_pipeline, X, y, cv=cv,  scoring='accuracy').mean()\n",
    "#     return score"
   ]
  },
  {
   "cell_type": "code",
   "execution_count": null,
   "metadata": {
    "id": "KXrho5kHviGM"
   },
   "outputs": [],
   "source": [
    "# ! pip install optuna"
   ]
  },
  {
   "cell_type": "code",
   "execution_count": null,
   "metadata": {
    "id": "ToHAq9XNU_i4"
   },
   "outputs": [],
   "source": [
    "# import optuna\n",
    "\n",
    "# study = optuna.create_study(study_name=\"example_xgboost_study\", direction='maximize')\n",
    "# study.optimize(objective, n_trials=100, show_progress_bar=True, n_jobs=-1)\n",
    "\n",
    "# best_params = study.best_params\n",
    "# print(f\"\\nBest parameters: {best_params}\")"
   ]
  },
  {
   "cell_type": "code",
   "execution_count": null,
   "metadata": {
    "id": "TbEwCoRfUHAk"
   },
   "outputs": [],
   "source": [
    "xgb_pipeline = Pipeline([\n",
    "    ('features', FeatureEngineer()),\n",
    "    ('preprocessing', preprocessor)\n",
    "    ])"
   ]
  },
  {
   "cell_type": "code",
   "execution_count": null,
   "metadata": {
    "id": "QcOwY8VrnK9Y"
   },
   "outputs": [],
   "source": [
    "X_preprocessed = xgb_pipeline.fit_transform(X)\n",
    "X_test_preprocessed = xgb_pipeline.transform(test_data)"
   ]
  },
  {
   "cell_type": "code",
   "execution_count": null,
   "metadata": {
    "colab": {
     "base_uri": "https://localhost:8080/"
    },
    "executionInfo": {
     "elapsed": 5248,
     "status": "ok",
     "timestamp": 1753805517313,
     "user": {
      "displayName": "Matej Kamenicky",
      "userId": "04927559039197615042"
     },
     "user_tz": -120
    },
    "id": "X35t5mdnUcoS",
    "outputId": "8aab6258-975c-4cbe-e70b-e84222ffb6cb"
   },
   "outputs": [],
   "source": [
    "skf = StratifiedKFold(n_splits=10, shuffle=True, random_state=42)\n",
    "oof_preds = np.zeros(len(X_preprocessed))\n",
    "test_preds = np.zeros(len(X_test_preprocessed))\n",
    "all_shap_values = []\n",
    "\n",
    "for fold, (train_idx, val_idx) in enumerate(skf.split(X_preprocessed, y)):\n",
    "    X_train, X_val = X_preprocessed[train_idx], X_preprocessed[val_idx]\n",
    "    y_train, y_val = y[train_idx], y[val_idx]\n",
    "\n",
    "    dtrain = xgb.DMatrix(X_train, label=y_train)\n",
    "    dval = xgb.DMatrix(X_val, label=y_val)\n",
    "    dtest = xgb.DMatrix(X_test_preprocessed)\n",
    "\n",
    "    xgb_model = xgb.train(best_params, dtrain, num_boost_round=100,\n",
    "                      evals=[(dval, \"valid\")],\n",
    "                      early_stopping_rounds=10, verbose_eval=False)\n",
    "\n",
    "    explainer = shap.TreeExplainer(model)\n",
    "    shap_vals = explainer.shap_values(X_val)\n",
    "    all_shap_values.append(shap_vals)\n",
    "\n",
    "    oof_preds[val_idx] = model.predict(dval) > 0.5\n",
    "    test_preds += model.predict(dtest) / skf.n_splits\n",
    "\n",
    "cv_acc = accuracy_score(y, oof_preds)\n",
    "print(f\"Cross-Validation Accuracy: {cv_acc:.4f}\")"
   ]
  },
  {
   "cell_type": "code",
   "execution_count": null,
   "metadata": {
    "colab": {
     "base_uri": "https://localhost:8080/",
     "height": 596
    },
    "executionInfo": {
     "elapsed": 2454,
     "status": "ok",
     "timestamp": 1753805527249,
     "user": {
      "displayName": "Matej Kamenicky",
      "userId": "04927559039197615042"
     },
     "user_tz": -120
    },
    "id": "tKox4TJzLO8Z",
    "outputId": "e2fb9ff8-009a-4986-8b43-d60a9477f581"
   },
   "outputs": [],
   "source": [
    "feature_engineer = xgb_pipeline.named_steps['features']\n",
    "feature_names = feature_engineer.get_feature_names_out()\n",
    "\n",
    "combined_shap = np.vstack(all_shap_values)\n",
    "shap.summary_plot(combined_shap, X_preprocessed, feature_names=feature_names)"
   ]
  },
  {
   "cell_type": "code",
   "execution_count": null,
   "metadata": {
    "colab": {
     "base_uri": "https://localhost:8080/",
     "height": 597
    },
    "executionInfo": {
     "elapsed": 191,
     "status": "ok",
     "timestamp": 1753805529268,
     "user": {
      "displayName": "Matej Kamenicky",
      "userId": "04927559039197615042"
     },
     "user_tz": -120
    },
    "id": "rYTPMn-rMLQB",
    "outputId": "f1af787a-963e-4a12-82f0-204e085b9a40"
   },
   "outputs": [],
   "source": [
    "shap.summary_plot(combined_shap, X_preprocessed, feature_names=feature_names, plot_type=\"bar\")"
   ]
  },
  {
   "cell_type": "markdown",
   "metadata": {
    "id": "IWdD41ogtyoK"
   },
   "source": [
    "# Submition"
   ]
  },
  {
   "cell_type": "code",
   "execution_count": null,
   "metadata": {
    "id": "eGYY7iDoWcQV"
   },
   "outputs": [],
   "source": [
    "y_pred_test = (test_preds >= 0.5).astype(int)"
   ]
  },
  {
   "cell_type": "code",
   "execution_count": null,
   "metadata": {
    "execution": {
     "iopub.execute_input": "2025-07-16T13:54:02.623859Z",
     "iopub.status.busy": "2025-07-16T13:54:02.623547Z",
     "iopub.status.idle": "2025-07-16T13:54:02.630930Z",
     "shell.execute_reply": "2025-07-16T13:54:02.629850Z",
     "shell.execute_reply.started": "2025-07-16T13:54:02.623838Z"
    },
    "id": "gwwu61kWtyoK"
   },
   "outputs": [],
   "source": [
    "mapping = {0: \"Extrovert\", 1: \"Introvert\"}\n",
    "\n",
    "y_test_labels = pd.Series(y_pred_test).map(mapping)"
   ]
  },
  {
   "cell_type": "code",
   "execution_count": null,
   "metadata": {
    "execution": {
     "iopub.execute_input": "2025-07-16T13:54:03.654839Z",
     "iopub.status.busy": "2025-07-16T13:54:03.654416Z",
     "iopub.status.idle": "2025-07-16T13:54:03.661323Z",
     "shell.execute_reply": "2025-07-16T13:54:03.660351Z",
     "shell.execute_reply.started": "2025-07-16T13:54:03.654785Z"
    },
    "id": "Xi3zBe05tyoL"
   },
   "outputs": [],
   "source": [
    "submission = pd.DataFrame({\n",
    "    'id': test_data[\"id\"],\n",
    "    'Personality': y_test_labels\n",
    "})"
   ]
  },
  {
   "cell_type": "code",
   "execution_count": null,
   "metadata": {
    "colab": {
     "base_uri": "https://localhost:8080/",
     "height": 424
    },
    "execution": {
     "iopub.execute_input": "2025-07-16T13:54:04.581219Z",
     "iopub.status.busy": "2025-07-16T13:54:04.580907Z",
     "iopub.status.idle": "2025-07-16T13:54:04.590200Z",
     "shell.execute_reply": "2025-07-16T13:54:04.588970Z",
     "shell.execute_reply.started": "2025-07-16T13:54:04.581198Z"
    },
    "executionInfo": {
     "elapsed": 18,
     "status": "ok",
     "timestamp": 1753805533799,
     "user": {
      "displayName": "Matej Kamenicky",
      "userId": "04927559039197615042"
     },
     "user_tz": -120
    },
    "id": "XFRaDbiytyoL",
    "outputId": "b031333f-78a3-4781-9184-935ed14ef1c6"
   },
   "outputs": [],
   "source": [
    "submission"
   ]
  },
  {
   "cell_type": "code",
   "execution_count": null,
   "metadata": {
    "execution": {
     "iopub.execute_input": "2025-07-16T13:54:06.601732Z",
     "iopub.status.busy": "2025-07-16T13:54:06.601427Z",
     "iopub.status.idle": "2025-07-16T13:54:06.619225Z",
     "shell.execute_reply": "2025-07-16T13:54:06.618195Z",
     "shell.execute_reply.started": "2025-07-16T13:54:06.601709Z"
    },
    "id": "MKVwyXL4tyoN"
   },
   "outputs": [],
   "source": [
    "submission.to_csv('submission.csv', index=False)"
   ]
  },
  {
   "cell_type": "code",
   "execution_count": null,
   "metadata": {
    "id": "OeZBkcSY9Un-"
   },
   "outputs": [],
   "source": []
  }
 ],
 "metadata": {
  "colab": {
   "provenance": []
  },
  "kaggle": {
   "accelerator": "none",
   "dataSources": [
    {
     "databundleVersionId": 12738969,
     "sourceId": 91718,
     "sourceType": "competition"
    }
   ],
   "dockerImageVersionId": 31089,
   "isGpuEnabled": false,
   "isInternetEnabled": true,
   "language": "python",
   "sourceType": "notebook"
  },
  "kernelspec": {
   "display_name": "Python 3",
   "language": "python",
   "name": "python3"
  },
  "language_info": {
   "codemirror_mode": {
    "name": "ipython",
    "version": 3
   },
   "file_extension": ".py",
   "mimetype": "text/x-python",
   "name": "python",
   "nbconvert_exporter": "python",
   "pygments_lexer": "ipython3",
   "version": "3.11.13"
  },
  "widgets": {
   "application/vnd.jupyter.widget-state+json": {
    "0c0cac3eae1b4421bcabad5936ec3baf": {
     "model_module": "@jupyter-widgets/base",
     "model_module_version": "1.2.0",
     "model_name": "LayoutModel",
     "state": {
      "_model_module": "@jupyter-widgets/base",
      "_model_module_version": "1.2.0",
      "_model_name": "LayoutModel",
      "_view_count": null,
      "_view_module": "@jupyter-widgets/base",
      "_view_module_version": "1.2.0",
      "_view_name": "LayoutView",
      "align_content": null,
      "align_items": "center",
      "align_self": null,
      "border": null,
      "bottom": null,
      "display": "flex",
      "flex": null,
      "flex_flow": "column",
      "grid_area": null,
      "grid_auto_columns": null,
      "grid_auto_flow": null,
      "grid_auto_rows": null,
      "grid_column": null,
      "grid_gap": null,
      "grid_row": null,
      "grid_template_areas": null,
      "grid_template_columns": null,
      "grid_template_rows": null,
      "height": null,
      "justify_content": null,
      "justify_items": null,
      "left": null,
      "margin": null,
      "max_height": null,
      "max_width": null,
      "min_height": null,
      "min_width": null,
      "object_fit": null,
      "object_position": null,
      "order": null,
      "overflow": null,
      "overflow_x": null,
      "overflow_y": null,
      "padding": null,
      "right": null,
      "top": null,
      "visibility": null,
      "width": "50%"
     }
    },
    "18ff259051fa40e19243689f0567f411": {
     "model_module": "@jupyter-widgets/base",
     "model_module_version": "1.2.0",
     "model_name": "LayoutModel",
     "state": {
      "_model_module": "@jupyter-widgets/base",
      "_model_module_version": "1.2.0",
      "_model_name": "LayoutModel",
      "_view_count": null,
      "_view_module": "@jupyter-widgets/base",
      "_view_module_version": "1.2.0",
      "_view_name": "LayoutView",
      "align_content": null,
      "align_items": null,
      "align_self": null,
      "border": null,
      "bottom": null,
      "display": null,
      "flex": null,
      "flex_flow": null,
      "grid_area": null,
      "grid_auto_columns": null,
      "grid_auto_flow": null,
      "grid_auto_rows": null,
      "grid_column": null,
      "grid_gap": null,
      "grid_row": null,
      "grid_template_areas": null,
      "grid_template_columns": null,
      "grid_template_rows": null,
      "height": null,
      "justify_content": null,
      "justify_items": null,
      "left": null,
      "margin": null,
      "max_height": null,
      "max_width": null,
      "min_height": null,
      "min_width": null,
      "object_fit": null,
      "object_position": null,
      "order": null,
      "overflow": null,
      "overflow_x": null,
      "overflow_y": null,
      "padding": null,
      "right": null,
      "top": null,
      "visibility": null,
      "width": null
     }
    },
    "29aa639e22754fc0b554be955ad28e56": {
     "model_module": "@jupyter-widgets/controls",
     "model_module_version": "1.5.0",
     "model_name": "DescriptionStyleModel",
     "state": {
      "_model_module": "@jupyter-widgets/controls",
      "_model_module_version": "1.5.0",
      "_model_name": "DescriptionStyleModel",
      "_view_count": null,
      "_view_module": "@jupyter-widgets/base",
      "_view_module_version": "1.2.0",
      "_view_name": "StyleView",
      "description_width": ""
     }
    },
    "2ac26372aa0a4ea4b700e13d67aa9de0": {
     "model_module": "@jupyter-widgets/controls",
     "model_module_version": "1.5.0",
     "model_name": "DescriptionStyleModel",
     "state": {
      "_model_module": "@jupyter-widgets/controls",
      "_model_module_version": "1.5.0",
      "_model_name": "DescriptionStyleModel",
      "_view_count": null,
      "_view_module": "@jupyter-widgets/base",
      "_view_module_version": "1.2.0",
      "_view_name": "StyleView",
      "description_width": ""
     }
    },
    "3687e476b3be4475878f36dd06602540": {
     "model_module": "@jupyter-widgets/controls",
     "model_module_version": "1.5.0",
     "model_name": "ButtonModel",
     "state": {
      "_dom_classes": [],
      "_model_module": "@jupyter-widgets/controls",
      "_model_module_version": "1.5.0",
      "_model_name": "ButtonModel",
      "_view_count": null,
      "_view_module": "@jupyter-widgets/controls",
      "_view_module_version": "1.5.0",
      "_view_name": "ButtonView",
      "button_style": "",
      "description": "Login",
      "disabled": false,
      "icon": "",
      "layout": "IPY_MODEL_18ff259051fa40e19243689f0567f411",
      "style": "IPY_MODEL_f7bbcf3ea210493aa010dff3285f7fab",
      "tooltip": ""
     }
    },
    "46ac7e3b42d74ab980c10b8209c15ba1": {
     "model_module": "@jupyter-widgets/controls",
     "model_module_version": "1.5.0",
     "model_name": "DescriptionStyleModel",
     "state": {
      "_model_module": "@jupyter-widgets/controls",
      "_model_module_version": "1.5.0",
      "_model_name": "DescriptionStyleModel",
      "_view_count": null,
      "_view_module": "@jupyter-widgets/base",
      "_view_module_version": "1.2.0",
      "_view_name": "StyleView",
      "description_width": ""
     }
    },
    "4b1679c192ec44e7a9a6d1e50a916724": {
     "model_module": "@jupyter-widgets/controls",
     "model_module_version": "1.5.0",
     "model_name": "TextModel",
     "state": {
      "_dom_classes": [],
      "_model_module": "@jupyter-widgets/controls",
      "_model_module_version": "1.5.0",
      "_model_name": "TextModel",
      "_view_count": null,
      "_view_module": "@jupyter-widgets/controls",
      "_view_module_version": "1.5.0",
      "_view_name": "TextView",
      "continuous_update": true,
      "description": "Username:",
      "description_tooltip": null,
      "disabled": false,
      "layout": "IPY_MODEL_dd1d99fee8424a91853cacef5847be06",
      "placeholder": "​",
      "style": "IPY_MODEL_46ac7e3b42d74ab980c10b8209c15ba1",
      "value": "matejkamenicky"
     }
    },
    "5e8a71cf2a59478ea339d396a2548323": {
     "model_module": "@jupyter-widgets/controls",
     "model_module_version": "1.5.0",
     "model_name": "LabelModel",
     "state": {
      "_dom_classes": [],
      "_model_module": "@jupyter-widgets/controls",
      "_model_module_version": "1.5.0",
      "_model_name": "LabelModel",
      "_view_count": null,
      "_view_module": "@jupyter-widgets/controls",
      "_view_module_version": "1.5.0",
      "_view_name": "LabelView",
      "description": "",
      "description_tooltip": null,
      "layout": "IPY_MODEL_c3c2269670fb4154b8370a882bb8aa1a",
      "placeholder": "​",
      "style": "IPY_MODEL_c7bb16357d1441cfbb5e1ced7d950ed4",
      "value": "Connecting..."
     }
    },
    "60f85ef8c131433d9b1fad50c9f0894a": {
     "model_module": "@jupyter-widgets/base",
     "model_module_version": "1.2.0",
     "model_name": "LayoutModel",
     "state": {
      "_model_module": "@jupyter-widgets/base",
      "_model_module_version": "1.2.0",
      "_model_name": "LayoutModel",
      "_view_count": null,
      "_view_module": "@jupyter-widgets/base",
      "_view_module_version": "1.2.0",
      "_view_name": "LayoutView",
      "align_content": null,
      "align_items": null,
      "align_self": null,
      "border": null,
      "bottom": null,
      "display": null,
      "flex": null,
      "flex_flow": null,
      "grid_area": null,
      "grid_auto_columns": null,
      "grid_auto_flow": null,
      "grid_auto_rows": null,
      "grid_column": null,
      "grid_gap": null,
      "grid_row": null,
      "grid_template_areas": null,
      "grid_template_columns": null,
      "grid_template_rows": null,
      "height": null,
      "justify_content": null,
      "justify_items": null,
      "left": null,
      "margin": null,
      "max_height": null,
      "max_width": null,
      "min_height": null,
      "min_width": null,
      "object_fit": null,
      "object_position": null,
      "order": null,
      "overflow": null,
      "overflow_x": null,
      "overflow_y": null,
      "padding": null,
      "right": null,
      "top": null,
      "visibility": null,
      "width": null
     }
    },
    "6facbb033fc64cca8dcd0970e5b93e41": {
     "model_module": "@jupyter-widgets/base",
     "model_module_version": "1.2.0",
     "model_name": "LayoutModel",
     "state": {
      "_model_module": "@jupyter-widgets/base",
      "_model_module_version": "1.2.0",
      "_model_name": "LayoutModel",
      "_view_count": null,
      "_view_module": "@jupyter-widgets/base",
      "_view_module_version": "1.2.0",
      "_view_name": "LayoutView",
      "align_content": null,
      "align_items": null,
      "align_self": null,
      "border": null,
      "bottom": null,
      "display": null,
      "flex": null,
      "flex_flow": null,
      "grid_area": null,
      "grid_auto_columns": null,
      "grid_auto_flow": null,
      "grid_auto_rows": null,
      "grid_column": null,
      "grid_gap": null,
      "grid_row": null,
      "grid_template_areas": null,
      "grid_template_columns": null,
      "grid_template_rows": null,
      "height": null,
      "justify_content": null,
      "justify_items": null,
      "left": null,
      "margin": null,
      "max_height": null,
      "max_width": null,
      "min_height": null,
      "min_width": null,
      "object_fit": null,
      "object_position": null,
      "order": null,
      "overflow": null,
      "overflow_x": null,
      "overflow_y": null,
      "padding": null,
      "right": null,
      "top": null,
      "visibility": null,
      "width": null
     }
    },
    "70e5558198f14bd58d45189a8ef66e6c": {
     "model_module": "@jupyter-widgets/base",
     "model_module_version": "1.2.0",
     "model_name": "LayoutModel",
     "state": {
      "_model_module": "@jupyter-widgets/base",
      "_model_module_version": "1.2.0",
      "_model_name": "LayoutModel",
      "_view_count": null,
      "_view_module": "@jupyter-widgets/base",
      "_view_module_version": "1.2.0",
      "_view_name": "LayoutView",
      "align_content": null,
      "align_items": null,
      "align_self": null,
      "border": null,
      "bottom": null,
      "display": null,
      "flex": null,
      "flex_flow": null,
      "grid_area": null,
      "grid_auto_columns": null,
      "grid_auto_flow": null,
      "grid_auto_rows": null,
      "grid_column": null,
      "grid_gap": null,
      "grid_row": null,
      "grid_template_areas": null,
      "grid_template_columns": null,
      "grid_template_rows": null,
      "height": null,
      "justify_content": null,
      "justify_items": null,
      "left": null,
      "margin": null,
      "max_height": null,
      "max_width": null,
      "min_height": null,
      "min_width": null,
      "object_fit": null,
      "object_position": null,
      "order": null,
      "overflow": null,
      "overflow_x": null,
      "overflow_y": null,
      "padding": null,
      "right": null,
      "top": null,
      "visibility": null,
      "width": null
     }
    },
    "80ffc32c802542fa9f802ab58a04c7f9": {
     "model_module": "@jupyter-widgets/controls",
     "model_module_version": "1.5.0",
     "model_name": "HTMLModel",
     "state": {
      "_dom_classes": [],
      "_model_module": "@jupyter-widgets/controls",
      "_model_module_version": "1.5.0",
      "_model_name": "HTMLModel",
      "_view_count": null,
      "_view_module": "@jupyter-widgets/controls",
      "_view_module_version": "1.5.0",
      "_view_name": "HTMLView",
      "description": "",
      "description_tooltip": null,
      "layout": "IPY_MODEL_aa2c6f09d882476aac9953e75656db2d",
      "placeholder": "​",
      "style": "IPY_MODEL_b85e15f961f6450bb5becbabc3cc7c56",
      "value": "<center> <img\nsrc=https://www.kaggle.com/static/images/site-logo.png\nalt='Kaggle'> <br> Create an API token from <a\nhref=\"https://www.kaggle.com/settings/account\" target=\"_blank\">your Kaggle\nsettings page</a> and paste it below along with your Kaggle username. <br> </center>"
     }
    },
    "8183080a479b40428e965a4adfad8f56": {
     "model_module": "@jupyter-widgets/controls",
     "model_module_version": "1.5.0",
     "model_name": "VBoxModel",
     "state": {
      "_dom_classes": [],
      "_model_module": "@jupyter-widgets/controls",
      "_model_module_version": "1.5.0",
      "_model_name": "VBoxModel",
      "_view_count": null,
      "_view_module": "@jupyter-widgets/controls",
      "_view_module_version": "1.5.0",
      "_view_name": "VBoxView",
      "box_style": "",
      "children": [
       "IPY_MODEL_b642757e4339492a9ebf8a654a82c118"
      ],
      "layout": "IPY_MODEL_0c0cac3eae1b4421bcabad5936ec3baf"
     }
    },
    "8bafd3a63cdd470185b7767444e29355": {
     "model_module": "@jupyter-widgets/controls",
     "model_module_version": "1.5.0",
     "model_name": "HTMLModel",
     "state": {
      "_dom_classes": [],
      "_model_module": "@jupyter-widgets/controls",
      "_model_module_version": "1.5.0",
      "_model_name": "HTMLModel",
      "_view_count": null,
      "_view_module": "@jupyter-widgets/controls",
      "_view_module_version": "1.5.0",
      "_view_name": "HTMLView",
      "description": "",
      "description_tooltip": null,
      "layout": "IPY_MODEL_6facbb033fc64cca8dcd0970e5b93e41",
      "placeholder": "​",
      "style": "IPY_MODEL_29aa639e22754fc0b554be955ad28e56",
      "value": "\n<b>Thank You</b></center>"
     }
    },
    "aa2c6f09d882476aac9953e75656db2d": {
     "model_module": "@jupyter-widgets/base",
     "model_module_version": "1.2.0",
     "model_name": "LayoutModel",
     "state": {
      "_model_module": "@jupyter-widgets/base",
      "_model_module_version": "1.2.0",
      "_model_name": "LayoutModel",
      "_view_count": null,
      "_view_module": "@jupyter-widgets/base",
      "_view_module_version": "1.2.0",
      "_view_name": "LayoutView",
      "align_content": null,
      "align_items": null,
      "align_self": null,
      "border": null,
      "bottom": null,
      "display": null,
      "flex": null,
      "flex_flow": null,
      "grid_area": null,
      "grid_auto_columns": null,
      "grid_auto_flow": null,
      "grid_auto_rows": null,
      "grid_column": null,
      "grid_gap": null,
      "grid_row": null,
      "grid_template_areas": null,
      "grid_template_columns": null,
      "grid_template_rows": null,
      "height": null,
      "justify_content": null,
      "justify_items": null,
      "left": null,
      "margin": null,
      "max_height": null,
      "max_width": null,
      "min_height": null,
      "min_width": null,
      "object_fit": null,
      "object_position": null,
      "order": null,
      "overflow": null,
      "overflow_x": null,
      "overflow_y": null,
      "padding": null,
      "right": null,
      "top": null,
      "visibility": null,
      "width": null
     }
    },
    "b642757e4339492a9ebf8a654a82c118": {
     "model_module": "@jupyter-widgets/controls",
     "model_module_version": "1.5.0",
     "model_name": "LabelModel",
     "state": {
      "_dom_classes": [],
      "_model_module": "@jupyter-widgets/controls",
      "_model_module_version": "1.5.0",
      "_model_name": "LabelModel",
      "_view_count": null,
      "_view_module": "@jupyter-widgets/controls",
      "_view_module_version": "1.5.0",
      "_view_name": "LabelView",
      "description": "",
      "description_tooltip": null,
      "layout": "IPY_MODEL_70e5558198f14bd58d45189a8ef66e6c",
      "placeholder": "​",
      "style": "IPY_MODEL_dcff59163f174abfa7ad2ca117a90a28",
      "value": "Kaggle credentials successfully validated."
     }
    },
    "b85e15f961f6450bb5becbabc3cc7c56": {
     "model_module": "@jupyter-widgets/controls",
     "model_module_version": "1.5.0",
     "model_name": "DescriptionStyleModel",
     "state": {
      "_model_module": "@jupyter-widgets/controls",
      "_model_module_version": "1.5.0",
      "_model_name": "DescriptionStyleModel",
      "_view_count": null,
      "_view_module": "@jupyter-widgets/base",
      "_view_module_version": "1.2.0",
      "_view_name": "StyleView",
      "description_width": ""
     }
    },
    "c3c2269670fb4154b8370a882bb8aa1a": {
     "model_module": "@jupyter-widgets/base",
     "model_module_version": "1.2.0",
     "model_name": "LayoutModel",
     "state": {
      "_model_module": "@jupyter-widgets/base",
      "_model_module_version": "1.2.0",
      "_model_name": "LayoutModel",
      "_view_count": null,
      "_view_module": "@jupyter-widgets/base",
      "_view_module_version": "1.2.0",
      "_view_name": "LayoutView",
      "align_content": null,
      "align_items": null,
      "align_self": null,
      "border": null,
      "bottom": null,
      "display": null,
      "flex": null,
      "flex_flow": null,
      "grid_area": null,
      "grid_auto_columns": null,
      "grid_auto_flow": null,
      "grid_auto_rows": null,
      "grid_column": null,
      "grid_gap": null,
      "grid_row": null,
      "grid_template_areas": null,
      "grid_template_columns": null,
      "grid_template_rows": null,
      "height": null,
      "justify_content": null,
      "justify_items": null,
      "left": null,
      "margin": null,
      "max_height": null,
      "max_width": null,
      "min_height": null,
      "min_width": null,
      "object_fit": null,
      "object_position": null,
      "order": null,
      "overflow": null,
      "overflow_x": null,
      "overflow_y": null,
      "padding": null,
      "right": null,
      "top": null,
      "visibility": null,
      "width": null
     }
    },
    "c7bb16357d1441cfbb5e1ced7d950ed4": {
     "model_module": "@jupyter-widgets/controls",
     "model_module_version": "1.5.0",
     "model_name": "DescriptionStyleModel",
     "state": {
      "_model_module": "@jupyter-widgets/controls",
      "_model_module_version": "1.5.0",
      "_model_name": "DescriptionStyleModel",
      "_view_count": null,
      "_view_module": "@jupyter-widgets/base",
      "_view_module_version": "1.2.0",
      "_view_name": "StyleView",
      "description_width": ""
     }
    },
    "dcff59163f174abfa7ad2ca117a90a28": {
     "model_module": "@jupyter-widgets/controls",
     "model_module_version": "1.5.0",
     "model_name": "DescriptionStyleModel",
     "state": {
      "_model_module": "@jupyter-widgets/controls",
      "_model_module_version": "1.5.0",
      "_model_name": "DescriptionStyleModel",
      "_view_count": null,
      "_view_module": "@jupyter-widgets/base",
      "_view_module_version": "1.2.0",
      "_view_name": "StyleView",
      "description_width": ""
     }
    },
    "dd1d99fee8424a91853cacef5847be06": {
     "model_module": "@jupyter-widgets/base",
     "model_module_version": "1.2.0",
     "model_name": "LayoutModel",
     "state": {
      "_model_module": "@jupyter-widgets/base",
      "_model_module_version": "1.2.0",
      "_model_name": "LayoutModel",
      "_view_count": null,
      "_view_module": "@jupyter-widgets/base",
      "_view_module_version": "1.2.0",
      "_view_name": "LayoutView",
      "align_content": null,
      "align_items": null,
      "align_self": null,
      "border": null,
      "bottom": null,
      "display": null,
      "flex": null,
      "flex_flow": null,
      "grid_area": null,
      "grid_auto_columns": null,
      "grid_auto_flow": null,
      "grid_auto_rows": null,
      "grid_column": null,
      "grid_gap": null,
      "grid_row": null,
      "grid_template_areas": null,
      "grid_template_columns": null,
      "grid_template_rows": null,
      "height": null,
      "justify_content": null,
      "justify_items": null,
      "left": null,
      "margin": null,
      "max_height": null,
      "max_width": null,
      "min_height": null,
      "min_width": null,
      "object_fit": null,
      "object_position": null,
      "order": null,
      "overflow": null,
      "overflow_x": null,
      "overflow_y": null,
      "padding": null,
      "right": null,
      "top": null,
      "visibility": null,
      "width": null
     }
    },
    "f7019d7de1f34d769095d2a46ef1a191": {
     "model_module": "@jupyter-widgets/controls",
     "model_module_version": "1.5.0",
     "model_name": "PasswordModel",
     "state": {
      "_dom_classes": [],
      "_model_module": "@jupyter-widgets/controls",
      "_model_module_version": "1.5.0",
      "_model_name": "PasswordModel",
      "_view_count": null,
      "_view_module": "@jupyter-widgets/controls",
      "_view_module_version": "1.5.0",
      "_view_name": "PasswordView",
      "continuous_update": true,
      "description": "Token:",
      "description_tooltip": null,
      "disabled": false,
      "layout": "IPY_MODEL_60f85ef8c131433d9b1fad50c9f0894a",
      "placeholder": "​",
      "style": "IPY_MODEL_2ac26372aa0a4ea4b700e13d67aa9de0",
      "value": ""
     }
    },
    "f7bbcf3ea210493aa010dff3285f7fab": {
     "model_module": "@jupyter-widgets/controls",
     "model_module_version": "1.5.0",
     "model_name": "ButtonStyleModel",
     "state": {
      "_model_module": "@jupyter-widgets/controls",
      "_model_module_version": "1.5.0",
      "_model_name": "ButtonStyleModel",
      "_view_count": null,
      "_view_module": "@jupyter-widgets/base",
      "_view_module_version": "1.2.0",
      "_view_name": "StyleView",
      "button_color": null,
      "font_weight": ""
     }
    }
   }
  }
 },
 "nbformat": 4,
 "nbformat_minor": 0
}
